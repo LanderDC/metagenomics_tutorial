{
 "cells": [
  {
   "cell_type": "markdown",
   "metadata": {},
   "source": [
    "#### Exercise 1.3.3"
   ]
  },
  {
   "cell_type": "code",
   "execution_count": null,
   "metadata": {},
   "outputs": [],
   "source": [
    "cd ~/data/software\n",
    "wget http://cab.spbu.ru/files/release3.15.0/SPAdes-3.15.0-Linux.tar.gz\n",
    "tar -xzf SPAdes-3.15.0-Linux.tar.gz\n",
    "cd SPAdes-3.15.0-Linux/bin/"
   ]
  },
  {
   "cell_type": "markdown",
   "metadata": {},
   "source": [
    "Don't forget to add the SPAdes `bin` directory to your `PATH` by editing your `.profile` in the home directory\n",
    "```bash\n",
    "PATH=\"~/data/software/SPAdes-3.15.0-Linux/bin:$PATH\"\n",
    "```"
   ]
  },
  {
   "cell_type": "code",
   "execution_count": null,
   "metadata": {},
   "outputs": [],
   "source": [
    "source ~/.profile"
   ]
  }
 ],
 "metadata": {
  "kernelspec": {
   "display_name": "Bash",
   "language": "bash",
   "name": "bash"
  },
  "language_info": {
   "codemirror_mode": "shell",
   "file_extension": ".sh",
   "mimetype": "text/x-sh",
   "name": "bash"
  }
 },
 "nbformat": 4,
 "nbformat_minor": 4
}
