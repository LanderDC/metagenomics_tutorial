{
 "cells": [
  {
   "cell_type": "markdown",
   "metadata": {},
   "source": [
    "#### FastQC comparison\n",
    "You can clearly see that the quality of the reads increases after trimming, certainly at the beginning and the end of the sequence. Also notice that your read becomes ~20bp shorter, because you remove adapter and primer sequences.\n",
    "\n",
    "<u>FastQC of the raw R1 reads:</u>\n",
    "\n",
    "<img src=\"https://github.com/Matthijnssenslab/tutorial_images/blob/main/FastQC_raw.png?raw=true\" height=\"60%\" width=\"60%\" />\n",
    "\n",
    "<u>FastQC of the trimmed R1 reads:</u>\n",
    "\n",
    "<img src=\"https://github.com/Matthijnssenslab/tutorial_images/blob/main/FastQC_trimmed.png?raw=true\" height=\"60%\" width=\"60%\" />\n",
    "\n",
    "---"
   ]
  },
  {
   "cell_type": "markdown",
   "metadata": {},
   "source": [
    "#### Exercise 2.2-1"
   ]
  },
  {
   "cell_type": "code",
   "execution_count": null,
   "metadata": {},
   "outputs": [],
   "source": [
    "# Unpaired\n",
    "bowtie2 --very-sensitive -x ~/data/meta_tutorial/contaminome/contaminome -U metatoy.unpaired.trimmed.fastq.gz -S mapunmap_unpair.sam\n",
    "samtools view -bS mapunmap_unpair.sam | samtools view -b -f4 -F256 - | samtools sort -n - -o UPunmapped.sorted.bam\n",
    "samtools fastq -n UPunmapped.sorted.bam > NCout.unpaired.fastq\n",
    "rm mapunmap_unpair.sam\n",
    "rm UPunmapped.sorted.bam \n",
    "pigz -c -9 NCout.unpaired.fastq > metatoy.NCout.unpaired.fastq.gz"
   ]
  },
  {
   "cell_type": "markdown",
   "metadata": {},
   "source": [
    "---\n",
    "#### Exercise 2.2-2\n"
   ]
  },
  {
   "cell_type": "code",
   "execution_count": null,
   "metadata": {},
   "outputs": [],
   "source": [
    "cd ~/data/meta_tutorial/READ/\n",
    "zcat metatoy.R1.fastq.gz | echo $((`wc -l`/4))\n",
    "zcat metatoy.R2.fastq.gz | echo $((`wc -l`/4))"
   ]
  },
  {
   "cell_type": "code",
   "execution_count": null,
   "metadata": {},
   "outputs": [],
   "source": [
    "cd ~/data/meta_tutorial/READ/TRIMMED\n",
    "zcat metatoy.NCout.R1.fastq.gz | echo $((`wc -l`/4))\n",
    "zcat metatoy.NCout.R2.fastq.gz | echo $((`wc -l`/4))\n",
    "zcat metatoy.NCout.unpaired.fastq.gz | echo $((`wc -l`/4))"
   ]
  },
  {
   "cell_type": "markdown",
   "metadata": {},
   "source": [
    "---\n",
    "#### Exercise 2.3-1"
   ]
  },
  {
   "cell_type": "code",
   "execution_count": null,
   "metadata": {},
   "outputs": [],
   "source": [
    "cd ~/data/meta_tutorial/ASSEMBLY\n",
    "grep -c \"^>\" metatoy.scaffolds.fasta\n",
    "seqtk comp metatoy.scaffolds.fasta | head\n",
    "seqtk comp metatoy.scaffolds.fasta | tail"
   ]
  }
 ],
 "metadata": {
  "kernelspec": {
   "display_name": "Bash",
   "language": "bash",
   "name": "bash"
  },
  "language_info": {
   "codemirror_mode": "shell",
   "file_extension": ".sh",
   "mimetype": "text/x-sh",
   "name": "bash"
  }
 },
 "nbformat": 4,
 "nbformat_minor": 4
}
