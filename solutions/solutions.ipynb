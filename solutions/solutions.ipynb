{
 "cells": [
  {
   "cell_type": "markdown",
   "metadata": {},
   "source": [
    "#### Exercise 1.3.3"
   ]
  },
  {
   "cell_type": "code",
   "execution_count": null,
   "metadata": {},
   "outputs": [],
   "source": [
    "cd ~/data/software\n",
    "wget http://cab.spbu.ru/files/release3.15.0/SPAdes-3.15.0-Linux.tar.gz\n",
    "tar -xzf SPAdes-3.15.0-Linux.tar.gz\n",
    "cd SPAdes-3.15.0-Linux/bin/"
   ]
  },
  {
   "cell_type": "markdown",
   "metadata": {},
   "source": [
    "Don't forget to add the SPAdes `bin` directory to your `PATH` by editing your `.profile` in the home directory\n",
    "```bash\n",
    "PATH=\"~/data/software/SPAdes-3.15.0-Linux/bin:$PATH\"\n",
    "```"
   ]
  },
  {
   "cell_type": "code",
   "execution_count": null,
   "metadata": {},
   "outputs": [],
   "source": [
    "source ~/.profile"
   ]
  },
  {
   "cell_type": "markdown",
   "metadata": {},
   "source": [
    "---\n",
    "#### FastQC comparison\n",
    "You can clearly see that the quality of the reads increases after trimming, certainly at the beginning and the end of the sequence. Also notice that your read becomes ~20bp shorter, because you remove adapter and primer sequences.\n",
    "\n",
    "<u>FastQC of the raw R1 reads:<u/>\n",
    "\n",
    "<img src=\"../images/FastQC_raw.png\" height=\"60%\" width=\"60%\" />\n",
    "\n",
    "<u>FastQC of the trimmed R1 reads:<u/>\n",
    "\n",
    "<img src=\"../images/FastQC_trimmed.png\" height=\"60%\" width=\"60%\" />\n",
    "\n",
    "---"
   ]
  },
  {
   "cell_type": "code",
   "execution_count": null,
   "metadata": {},
   "outputs": [],
   "source": []
  }
 ],
 "metadata": {
  "kernelspec": {
   "display_name": "Bash",
   "language": "bash",
   "name": "bash"
  },
  "language_info": {
   "codemirror_mode": "shell",
   "file_extension": ".sh",
   "mimetype": "text/x-sh",
   "name": "bash"
  }
 },
 "nbformat": 4,
 "nbformat_minor": 4
}
