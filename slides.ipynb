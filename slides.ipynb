{
 "cells": [
  {
   "cell_type": "markdown",
   "metadata": {
    "slideshow": {
     "slide_type": "slide"
    }
   },
   "source": [
    "<link rel=\"stylesheet\" href=\"https://use.fontawesome.com/releases/v5.6.3/css/all.css\" integrity=\"sha384-UHRtZLI+pbxtHCWp1t77Bi1L4ZtiqrqD80Kn4Z8NTSRyMA2Fd33n5dQ8lWUE00s/\" crossorigin=\"anonymous\">\n",
    "\n",
    "<a href=\"https://rega.kuleuven.be/cev/viralmetagenomics\" target=\"_blank\"><img  align=\"right\" src=\"https://rega.kuleuven.be/cev/viralmetagenomics/pictures/lovm/image_preview\" height=\"7.5%\" width=\"7.5%\" /></a>\n",
    "\n",
    "# JM-lab bioinformatics pipeline\n",
    "<hr>"
   ]
  },
  {
   "cell_type": "markdown",
   "metadata": {
    "slideshow": {
     "slide_type": "skip"
    }
   },
   "source": [
    "This jupyter notebook gives an overview of the commands needed for the primary analysis of raw NGS data, flavoured with explanations and neat tips and tricks. This is intended as a learning tool for new PhD-students, master students, labrotations, interns, etc. Basic command-line knowledge is required to be able to complete this tutorial, a Linux introduction course like <a href=\"https://ryanstutorials.net/linuxtutorial/\" target=\"_blank\">this one</a> should suffice.\n",
    "\n",
    "For this tutorial, we will work on the [gbiomed teaching server](#1.1-Logging-into-the-teaching-server). Further, you can run the commands directly from the terminal or within this jupyter notebook. To run a jupyter notebook on the teaching server, copy it to your `~/data/jupyternotebooks/` folder and open an internet browser to navigate to [bmw.gbiomed.kuleuven.be](https://bmw.gbiomed.kuleuven.be/), log in with your KU Leuven credentials which should finally allow you to run the notebook. You can find more information on how to transfer files to a remote server [below](#1.2-Installing-an-SFTP-client)."
   ]
  },
  {
   "cell_type": "markdown",
   "metadata": {
    "slideshow": {
     "slide_type": "slide"
    }
   },
   "source": [
    "<center><img src=\"https://assets.researchsquare.com/files/nprot-4839/v1/figure_2.jpg\"></center>"
   ]
  },
  {
   "cell_type": "markdown",
   "metadata": {
    "slideshow": {
     "slide_type": "slide"
    }
   },
   "source": [
    "<center><img src=\"https://i.pinimg.com/originals/7f/6e/0c/7f6e0c5ba45905abbf9969a4a440ceba.gif\" height=\"50%\" width=\"50%\"></center>"
   ]
  },
  {
   "cell_type": "markdown",
   "metadata": {
    "slideshow": {
     "slide_type": "skip"
    }
   },
   "source": [
    "#### Requirements:\n",
    "\n",
    "* Internet connection\n",
    "* KU Leuven credentials\n",
    "* Basic Linux command-line knowledge\n",
    "* Local copy of the <a href=\"https://github.com/Matthijnssenslab\" target=\"_blank\">Github repository</a> with this jupyter notebook, solutions notebook, extra content, etc.\n",
    "* NetoVIR FASTQ-files (named <em>metatoy.&ast;.fastq.gz</em>)\n",
    "* Bioinformatics mood"
   ]
  },
  {
   "cell_type": "markdown",
   "metadata": {
    "slideshow": {
     "slide_type": "slide"
    }
   },
   "source": [
    "#### Overview:\n",
    "\n",
    "* [Part 1: Preparation](#Part-1:-Preparation)\n",
    "* [Part 2: Pipeline](#Part-2:-Virome-pipeline)\n",
    "    * [Basic NGS commands](#Basic-commands-when-working-with-NGS-data)\n",
    "    * [Trimming and QC](#2.1-Trimming-and-QC)\n",
    "    * [Removing contamination](#2.2-Removing-contamination)\n",
    "    * [Assembly](#2.3-Assembly)\n",
    "    * [Taxonomical annotation](#2.4-Taxonomical-annotation)\n",
    "    * [Visualization](#2.5-Visualization)\n",
    "* <a href=\"#part-3-exercise-\">Part 3: Exercise!</a>\n",
    "---"
   ]
  },
  {
   "cell_type": "markdown",
   "metadata": {
    "slideshow": {
     "slide_type": "slide"
    }
   },
   "source": [
    "## **Part 1: Preparation**\n",
    "### 1.1 Logging into the teaching server\n",
    "\n",
    "<div class=\"alert alert-block alert-info\" style=\"color:#4195A4;background-color: white; border: 2px solid; padding: 10px;display:inline-block\">\n",
    "    <b><i class=\"fa fa-info-circle\" aria-hidden=\"true\"></i>&nbsp; Info</b><br>\n",
    "    <div style=\"color:black\">\n",
    "<p>To be able to perform analysis on a Linux machine or a server, a connection needs to be made through the shell of the operating system. Through this shell we can use the command-line interface to execute tasks.</p>\n",
    "<p>For this tutorial, we can work on the teaching server of gbiomed (bmw.gbiomed.kuleuven.be). Everyone with a u- or r-number from KU Leuven can connect to this remote server by using <code>ssh</code> (<a target=\"_blank\" href=\"https://searchsecurity.techtarget.com/definition/Secure-Shell\">more info</a>) with your KU Leuven credentials.</p>\n",
    "<p>MacOS and Linux users can already proceed to the next step as these operating systems already have a terminal and <code>ssh</code> natively installed. </p>\n",
    "<p>Windows users on the other hand, will have to install an SSH client (<a target=\"_blank\" href=\"https://www.chiark.greenend.org.uk/~sgtatham/putty/latest.html\">PuTTY</a> or <a target=\"_blank\" href=\"https://www.bitvise.com/ssh-client-download\">Bitvise</a>) or a Linux subsytem for Windows and a terminal app (eg. Ubuntu app). The latter is preferred because it is already a part of Windows and subsequently the next steps will be the same as for Linux and Mac users. Instructions on how to install the Ubuntu terminal app on Windows can be found <a target=\"_blank\" href=\"https://ubuntu.com/tutorials/ubuntu-on-windows#1-overview\">here</a>, be aware that this requires at least a x86 PC running Windows 10 (Fall Creators update Oct 2017).</p></div></div>"
   ]
  },
  {
   "cell_type": "markdown",
   "metadata": {
    "slideshow": {
     "slide_type": "slide"
    }
   },
   "source": [
    "**Perform following actions in a terminal (command-line interface):**"
   ]
  },
  {
   "cell_type": "code",
   "execution_count": null,
   "metadata": {
    "slideshow": {
     "slide_type": "-"
    }
   },
   "outputs": [],
   "source": [
    "ssh uXXXXXXX@bmw.gbiomed.kuleuven.be"
   ]
  },
  {
   "cell_type": "markdown",
   "metadata": {
    "slideshow": {
     "slide_type": "-"
    }
   },
   "source": [
    ">Replace uXXXXXXX with your own u- or r-number.\n",
    "        \n",
    "Next, you should give your password connected to your KU Leuven account and you're in!"
   ]
  },
  {
   "cell_type": "markdown",
   "metadata": {
    "slideshow": {
     "slide_type": "slide"
    }
   },
   "source": [
    "<div class=\"alert alert-block alert-warning\" style=\"color:orange;background-color: white; border: 2px solid; padding: 10px;display:inline-block\">\n",
    "    <b><i class=\"fa fa-exclamation-triangle\" aria-hidden=\"true\"></i>&nbsp; Important</b><br>\n",
    "    <p style=\"color: black\">\n",
    "<b>You will log in to the <code>home</code> directory, but always avoid working in here as this has limited storage and will cause trouble when it&#39;s full!</b> Therefore, on the teaching server, work in the <code>data</code> directory, which is a symbolic link to <code>/mnt/storage/uXXXXXXX</code>. Here, you will have enough space to store raw data, results and temporary files.</p></div>"
   ]
  },
  {
   "cell_type": "markdown",
   "metadata": {
    "slideshow": {
     "slide_type": "slide"
    }
   },
   "source": [
    "# File transfer"
   ]
  },
  {
   "cell_type": "markdown",
   "metadata": {
    "slideshow": {
     "slide_type": "slide"
    }
   },
   "source": [
    "### 1.2 Installing an SFTP client\n",
    "\n",
    "In order to transfer files from your local computer to a remote server you need an SFTP (Secure File Transfer Protocol) client, a commonly used SFTP client is <a href=\"https://filezilla-project.org/\" target=\"_blank\">FileZilla</a>. You can download and install it through the FileZilla project website.\n",
    "\n",
    ">**Sidenote:** <br> *Bitvise is an SSH and SFTP client in one, so if you're using Bitvise there is no need to install FileZilla.*"
   ]
  },
  {
   "cell_type": "markdown",
   "metadata": {
    "slideshow": {
     "slide_type": "slide"
    }
   },
   "source": [
    "Once you installed and opened FileZilla, it should look like this:\n",
    "\n",
    "<center><img src=\"https://github.com/Matthijnssenslab/tutorial_images/blob/main/Filezilla_start.png?raw=true\" height=\"70%\" width=\"70%\" style=\"left\" /></center>\n",
    "<br>\n",
    "On top of the program you can fill out the host (bmw.gbiomed.kuleuven.be), your u/r-number and password connected to KU Leuven and <b>set the port to 22</b> (see image above)."
   ]
  },
  {
   "cell_type": "markdown",
   "metadata": {
    "slideshow": {
     "slide_type": "slide"
    }
   },
   "source": [
    "Once you click connect, you should be able to transfer files from your computer to the remote server simply by dragging them one or the other way.\n",
    "\n",
    "<br>\n",
    "<center><img src=\"https://github.com/Matthijnssenslab/tutorial_images/blob/main/Filezilla_transfer.png?raw=true\" height=\"70%\" width=\"70%\" style=\"left\" /></center>"
   ]
  },
  {
   "cell_type": "markdown",
   "metadata": {
    "slideshow": {
     "slide_type": "slide"
    }
   },
   "source": [
    "<div class=\"alert alert-block alert-warning\" style=\"color:orange;background-color: white; border: 2px solid; padding: 10px\">\n",
    "    <b><i class=\"fa fa-exclamation-triangle\" aria-hidden=\"true\"></i>&nbsp; Important</b><br>\n",
    "    <p style=\"color: black\">\n",
    "        FileZilla will connect to your <code>home</code> directory by default, but do not copy files here! Instead, copy them to the <code>data</code> directory.</p>\n",
    "</div>"
   ]
  },
  {
   "cell_type": "markdown",
   "metadata": {
    "slideshow": {
     "slide_type": "slide"
    }
   },
   "source": [
    "#### 1.2.1 Transfer files\n",
    "From the terminal, make a new directory in your data folder and transfer all provided files (FASTQ files, file containing WTA and Nextera primers, contaminome, etc.) to this directory with FileZilla."
   ]
  },
  {
   "cell_type": "code",
   "execution_count": null,
   "metadata": {
    "slideshow": {
     "slide_type": "-"
    }
   },
   "outputs": [],
   "source": [
    "mkdir ~/data/meta_tutorial"
   ]
  },
  {
   "cell_type": "markdown",
   "metadata": {
    "slideshow": {
     "slide_type": "slide"
    }
   },
   "source": [
    "# Software installation"
   ]
  },
  {
   "cell_type": "markdown",
   "metadata": {
    "slideshow": {
     "slide_type": "slide"
    }
   },
   "source": [
    "### 1.3 Installing all necessary software on the remote server\n",
    "#### 1.3.1 Miniconda\n",
    "**Miniconda** is a package manager from which you can install a lot of (bioinformatics) software. More info on conda can be found <a href=\"https://docs.conda.io/projects/conda/en/latest/\" target=\"_blank\">here</a>.\n",
    "\n",
    "##### Installing Miniconda:\n",
    "1. Create in your datafolder a new `software` directory and move into that directory:"
   ]
  },
  {
   "cell_type": "code",
   "execution_count": null,
   "metadata": {
    "slideshow": {
     "slide_type": "-"
    }
   },
   "outputs": [],
   "source": [
    "cd ~/data\n",
    "mkdir software\n",
    "cd software"
   ]
  },
  {
   "cell_type": "markdown",
   "metadata": {
    "slideshow": {
     "slide_type": "slide"
    }
   },
   "source": [
    "2. Download the Miniconda installer with `wget`. Next, run the installation script (see command-line options below). When Miniconda is installed, activate conda by sourcing the initialization script, this simply sets a couple of shell environment variables, and `conda` command as a shell function. More information in the <a href=\"https://docs.conda.io/projects/conda/en/latest/user-guide/install/index.html\" target=\"_blank\">installer guidelines</a>."
   ]
  },
  {
   "cell_type": "code",
   "execution_count": null,
   "metadata": {
    "scrolled": true
   },
   "outputs": [],
   "source": [
    "wget https://repo.anaconda.com/miniconda/Miniconda3-latest-Linux-x86_64.sh\n",
    "\n",
    "bash Miniconda3-latest-Linux-x86_64.sh -b -p $HOME/data/software/miniconda"
   ]
  },
  {
   "cell_type": "markdown",
   "metadata": {},
   "source": [
    "<div class=\"alert alert-block dark-alert\" style=\"background-color: white; border: 2px solid; padding: 15px;display:inline-block\">\n",
    "    <b><i class=\"fa fa-laptop\"></i>&nbsp; Command-line options</b><br>\n",
    "<ul style=\"color:black\">\n",
    "    <li><code>-b</code> makes the installation run silent</li>\n",
    "    <li><code>-p</code> provides the path where to install Miniconda</li>\n",
    "    </ul></div>"
   ]
  },
  {
   "cell_type": "code",
   "execution_count": null,
   "metadata": {
    "scrolled": true,
    "slideshow": {
     "slide_type": "slide"
    }
   },
   "outputs": [],
   "source": [
    "source $HOME/data/software/miniconda/bin/activate\n",
    "conda init\n",
    "source ~/.bashrc"
   ]
  },
  {
   "cell_type": "markdown",
   "metadata": {},
   "source": [
    "<div class=\"alert alert-block alert-info\" style=\"color:#4195A4;background-color: white; border: 2px solid; padding: 15px;display:inline-block\">\n",
    "    <b><i class=\"fa fa-info-circle\" aria-hidden=\"true\"></i>&nbsp; Info</b><br>\n",
    "    <p style=\"color: black\">\n",
    "Notice that <code>&#36;HOME</code> and <code>~/</code>both point to your <code>home</code> directory.</p></div>"
   ]
  },
  {
   "cell_type": "markdown",
   "metadata": {
    "slideshow": {
     "slide_type": "slide"
    }
   },
   "source": [
    "##### Installing software with Miniconda:\n",
    "3. When installing new software with conda, the best practice is to create a new conda environment for each project you are working on, for example:\n",
    "\n",
    "In this tutorial we will run the virome pipeline, so we will create a conda environment with all software we need to run the pipeline installed in this environment. Then we need to activate this environment to make the software available for use.\n"
   ]
  },
  {
   "cell_type": "code",
   "execution_count": null,
   "metadata": {},
   "outputs": [],
   "source": [
    "conda create -y --name virome_pipeline python=3.8\n",
    "conda activate virome_pipeline\n",
    "conda install -y -c bioconda -c anaconda samtools bwa-mem2 bowtie2 trimmomatic bedtools fastqc pigz seqtk"
   ]
  },
  {
   "cell_type": "markdown",
   "metadata": {},
   "source": [
    "<div class=\"alert alert-block dark-alert\" style=\"background-color: white; border: 2px solid; padding: 10px;display:inline-block\">\n",
    "    <b><i class=\"fa fa-laptop\"></i>&nbsp; Command-line options</b><br>\n",
    "    <ul>\n",
    "        <li><code>conda create -y --name virome_pipeline python=3.8</code> creates a python environment named <em>virome_pipeline</em>, where we will install all software.</li>\n",
    "        <li><code>conda activate virome_pipeline</code> activates this environment (you can see the beginning command-line prompt name change from <code>(base)</code> to <code>(virome_pipeline)</code>.</li>\n",
    "        <li><code>conda install -y -c bioconda -c anaconda ...</code> installs all necessary software from the bioconda and anaconda channels in the activated environment, and solves package dependencies, version incompatibilities, etc. </li>\n",
    "    </ul>\n",
    "    </div>"
   ]
  },
  {
   "cell_type": "markdown",
   "metadata": {
    "slideshow": {
     "slide_type": "slide"
    }
   },
   "source": [
    "#### 1.3.2 Installing from another source\n",
    "\n",
    "The Miniconda installation will most of the time lag a few versions behind the most current release. If you really want the most recent version of the software, then you'll need to manually install the software and its dependencies.\n",
    "\n",
    "Next to Miniconda their are a lot of other possibilities to install software (`pip`, compiling from source, unpacking binaries, installing from github repository, etc.)"
   ]
  },
  {
   "cell_type": "markdown",
   "metadata": {
    "slideshow": {
     "slide_type": "slide"
    }
   },
   "source": [
    "#### 1.3.2.1 DIAMOND\n",
    "As the latest version of <a href=\"https://github.com/bbuchfink/diamond\" target=\"_blank\">DIAMOND</a> (a sequence aligner for protein and translated DNA searches) is not available through `conda`, we can install it from Github by following the <a href=\"https://github.com/bbuchfink/diamond/wiki\" target=\"_blank\">installation instructions</a>."
   ]
  },
  {
   "cell_type": "code",
   "execution_count": null,
   "metadata": {
    "scrolled": true
   },
   "outputs": [],
   "source": [
    "cd ~/data/software/\n",
    "mkdir diamond\n",
    "cd diamond\n",
    "wget http://github.com/bbuchfink/diamond/releases/download/v2.0.6/diamond-linux64.tar.gz\n",
    "tar -xzf diamond-linux64.tar.gz"
   ]
  },
  {
   "cell_type": "markdown",
   "metadata": {
    "slideshow": {
     "slide_type": "slide"
    }
   },
   "source": [
    "Now we still need to put the diamond executable in our `PATH` variable so we can call the `diamond` command from everywhere in the command line. This can be done by making a `bin` subdirectory in `~/data/software/`, followed by creating a <a href=\"https://linuxize.com/post/how-to-create-symbolic-links-in-linux-using-the-ln-command/\" target=\"_blank\">symbolic link</a> from the `diamond` executable to `~/data/software/bin/` and finally export this directory to our `$PATH` by adding it to your `.profile` file."
   ]
  },
  {
   "cell_type": "code",
   "execution_count": null,
   "metadata": {},
   "outputs": [],
   "source": [
    "cd ~/data/software\n",
    "mkdir bin\n",
    "cd bin/\n",
    "ln -s ~/data/software/diamond/diamond ."
   ]
  },
  {
   "cell_type": "markdown",
   "metadata": {
    "slideshow": {
     "slide_type": "slide"
    }
   },
   "source": [
    "Next, open the `.profile` file with `nano` (a text editor) and add following line to the bottom of the file:\n",
    "```bash\n",
    "PATH=\"~/data/software/bin:$PATH\"\n",
    "```"
   ]
  },
  {
   "cell_type": "code",
   "execution_count": null,
   "metadata": {},
   "outputs": [],
   "source": [
    "nano ~/.profile"
   ]
  },
  {
   "cell_type": "markdown",
   "metadata": {},
   "source": [
    "When you `source` your `.profile` file, you should now be able to call `diamond`."
   ]
  },
  {
   "cell_type": "code",
   "execution_count": null,
   "metadata": {},
   "outputs": [],
   "source": [
    "source ~/.profile"
   ]
  },
  {
   "cell_type": "markdown",
   "metadata": {
    "slideshow": {
     "slide_type": "slide"
    }
   },
   "source": [
    "<div class=\"alert alert-block alert-info\" style=\"color:#4195A4;background-color: white; border: 2px solid; padding: 15px;display:inline-block\">\n",
    "    <b><i class=\"fa fa-info-circle\" aria-hidden=\"true\"></i>&nbsp; Info</b><br>\n",
    "    <p style=\"color: black\">\n",
    "More documentation on how and where to set the <code>PATH</code> variable in these two topics:</p>\n",
    "<ul style=\"color: black\">\n",
    "<li><strong>How</strong>: <a target=\"_blank\" href=\"https://unix.stackexchange.com/questions/26047/how-to-correctly-add-a-path-to-path\">How to correctly add a path to PATH</a></li>\n",
    "<li><strong>Where</strong>: <a target=\"_blank\" href=\"https://superuser.com/questions/183870/difference-between-bashrc-and-bash-profile/183980#183980\">Difference between .bashrc and .profile files</a></li>\n",
    "</ul></div>"
   ]
  },
  {
   "cell_type": "markdown",
   "metadata": {
    "slideshow": {
     "slide_type": "slide"
    }
   },
   "source": [
    "Let's check out the version of Diamond you have installed!"
   ]
  },
  {
   "cell_type": "code",
   "execution_count": null,
   "metadata": {
    "scrolled": true
   },
   "outputs": [],
   "source": [
    "diamond version"
   ]
  },
  {
   "cell_type": "markdown",
   "metadata": {
    "slideshow": {
     "slide_type": "slide"
    }
   },
   "source": [
    "#### 1.3.2.2 Krona\n",
    "<p>In the recent past, there were some issues with <a target=\"_blank\" href=\"https://github.com/marbl/Krona\">Krona</a> but they have been solved by the latest releases on Github. Unfortunately these are not yet available through <code>conda</code>, so we will also install them directly from Github.</p>\n",
    "<p> Clone the Krona repository in your <code>~/data/software</code> directory.</p>"
   ]
  },
  {
   "cell_type": "code",
   "execution_count": null,
   "metadata": {},
   "outputs": [],
   "source": [
    "cd ~/data/software\n",
    "git clone https://github.com/marbl/Krona.git"
   ]
  },
  {
   "cell_type": "markdown",
   "metadata": {},
   "source": [
    "<p>This will unpack to <code>Krona/</code>.</p>"
   ]
  },
  {
   "cell_type": "markdown",
   "metadata": {
    "slideshow": {
     "slide_type": "slide"
    }
   },
   "source": [
    "<p>Move to <code>Krona/KronaTools/</code> and run the installation script <code>install.pl</code>."
   ]
  },
  {
   "cell_type": "code",
   "execution_count": null,
   "metadata": {},
   "outputs": [],
   "source": [
    "cd ~/data/software/Krona/KronaTools\n",
    "./install.pl --prefix ~/data/software"
   ]
  },
  {
   "cell_type": "markdown",
   "metadata": {},
   "source": [
    "<div class=\"alert alert-block dark-alert\" style=\"background-color: white; border: 2px solid; padding: 10px;display:inline-block\">\n",
    "    <b><i class=\"fa fa-laptop\"></i>&nbsp; Command-line options</b><br><br>\n",
    "    <p style=\"color:black\">\n",
    "        <code>install.pl</code> will install all the Krona scripts into a <code>bin</code> directory within the path you specified with <code>--prefix</code>. We give it <code>~/data/software</code> because we already have a <code>bin</code> directory there which is installed in our <code>PATH</code> variable.\n",
    "    </p>\n",
    "</div>"
   ]
  },
  {
   "cell_type": "markdown",
   "metadata": {
    "slideshow": {
     "slide_type": "slide"
    }
   },
   "source": [
    "##### Linking the taxonomy database for Krona\n",
    "Krona is installed but it still needs <b>taxonomy databases</b> to generate taxonomic reports. Normally, you should run the <code>ktUpdateTaxonomy.sh</code> and <code>updateAccessions.sh</code> scripts to download these databases but as we are working on the teaching server with limited storage capability, they are already available under <code>/home/luna.kuleuven.be/u0140985/data/db/Krona/</code>. By creating a symbolic link from this path to the default path where Krona will search for the databases when it is running, we save some storage space."
   ]
  },
  {
   "cell_type": "code",
   "execution_count": null,
   "metadata": {},
   "outputs": [],
   "source": [
    "ln -sf /mnt/storage/u0140985/db/Krona ~/data/software/Krona/KronaTools/taxonomy"
   ]
  },
  {
   "cell_type": "markdown",
   "metadata": {
    "slideshow": {
     "slide_type": "slide"
    }
   },
   "source": [
    "---\n",
    "<div class=\"alert alert-block\" style=\"color:purple;background-color: white; border: 2px solid; padding: 15px;display:inline-block\">\n",
    "    <b><i class=\"fa fa-pencil\"></i>&nbsp; Exercise</b><br>\n",
    "\n",
    "<h4 id=\"1-3-1-exercise\" style=\"color: black\">1.3-1 Exercise</h4>\n",
    "<p style=\"color: black\">Try to install the latest version of <a target=\"_blank\" href=\"https://github.com/ablab/spades\">SPAdes</a> by yourself. If you have troubles with this exercise, the steps are listed in the solutions notebook.</p></div>"
   ]
  },
  {
   "cell_type": "markdown",
   "metadata": {
    "slideshow": {
     "slide_type": "slide"
    }
   },
   "source": [
    "---\n",
    "## **Part 2: Virome pipeline**"
   ]
  },
  {
   "cell_type": "markdown",
   "metadata": {
    "slideshow": {
     "slide_type": "fragment"
    }
   },
   "source": [
    "<div class=\"alert alert-block alert-success\" style=\"background-color: white; border: 2px solid; padding: 15px;display:inline-block\">\n",
    "    <b><i class=\"fa fa-lightbulb-o\"></i>&nbsp; Tips</b><br>\n",
    "    <p style=\"color: black\">\n",
    "Before we start, some commandments to live by:</p>\n",
    "<ol style=\"color: black\">\n",
    "<li><strong>Always make sure you&#39;re working in the right directory</strong> (<code>pwd</code>) and that you <strong>activated the <code>conda</code> environment</strong> you need</li>\n",
    "<li>Try the <code>-h</code>, <code>-help</code> or <code>--help</code> documentation for more information about the pogram you&#39;re using.</li>\n",
    "<li><strong><kbd>Ctrl</kbd> + <kbd>C</kbd></strong> kills tasks, useful when they get stuck </li>\n",
    "<li>Undoubtedly <strong>errors will occur</strong>, read them carefully and <strong>try to understand what they want to tell you</strong>. </li>\n",
    "<li><strong>Document what you&#39;re coding</strong>: Use <code>#</code> in a shell script, code block, etc. This will allow you to leave comments in your code, as all lines with a <code>#</code> in front will not be interpreted.</li>\n",
    "<li><strong>Google is your friend!</strong> Websites like Stackoverflow, Superuser, Biostars, etc. most likely contain the answers to your questions (if you can phrase them properly)</li>\n",
    "</ol>\n",
    "</div>"
   ]
  },
  {
   "cell_type": "markdown",
   "metadata": {
    "slideshow": {
     "slide_type": "slide"
    }
   },
   "source": [
    "<center><img src=\"https://awbrooks19.github.io/vmi_microbiome_bootcamp/_images/fastq_format.png\"></center>"
   ]
  },
  {
   "cell_type": "markdown",
   "metadata": {
    "slideshow": {
     "slide_type": "slide"
    }
   },
   "source": [
    "## Phred\n",
    "<center><img src=\"https://www.drive5.com/usearch/manual/qscores.gif\"></center>\n",
    "quality of 10 = error probability of 0.1 that the nucleotide at that position is incorrect<br>\n",
    "e.g quality of 20 = error probability of 0.01<br>\n",
    "e.g quality of 30 = error probability of 0.001<br>\n",
    "e.g quality of 40 = error probability of 0.0001"
   ]
  },
  {
   "cell_type": "markdown",
   "metadata": {
    "slideshow": {
     "slide_type": "slide"
    }
   },
   "source": [
    "## Fasta\n",
    "\n",
    "<center><img src=\"https://www.researchgate.net/profile/Morteza_Hosseini17/publication/309134977/figure/fig1/AS:417452136648705@1476539753111/A-sample-of-the-Multi-FASTA-file.png\"></center>"
   ]
  },
  {
   "cell_type": "markdown",
   "metadata": {
    "slideshow": {
     "slide_type": "slide"
    }
   },
   "source": [
    "# Basic commands when working with NGS data"
   ]
  },
  {
   "cell_type": "markdown",
   "metadata": {
    "slideshow": {
     "slide_type": "slide"
    }
   },
   "source": [
    "Commands to do some basic manipulations on sequence data are given below. These always come in handy when working with fasta/fastq files.\n",
    "1. Count how many reads are in a fastq.gz:"
   ]
  },
  {
   "cell_type": "code",
   "execution_count": null,
   "metadata": {},
   "outputs": [],
   "source": [
    "zcat <fastq.gz> | echo $((`wc -l`/4)) #when you have an uncompressed fastq, replace zcat with cat"
   ]
  },
  {
   "cell_type": "markdown",
   "metadata": {
    "slideshow": {
     "slide_type": "slide"
    }
   },
   "source": [
    "2. Count how many sequences are in a fasta:"
   ]
  },
  {
   "cell_type": "code",
   "execution_count": null,
   "metadata": {},
   "outputs": [],
   "source": [
    "grep -c \"^>\" <fasta> "
   ]
  },
  {
   "cell_type": "markdown",
   "metadata": {},
   "source": [
    ">This will count the occurrence of \"<b>></b>\" symbols that are at the beginning of a line (this is indicated by the \"<b>^</b>\"). Because each fasta header starts with a \">\", you will know how many sequences are in the fasta file.</p></div>"
   ]
  },
  {
   "cell_type": "markdown",
   "metadata": {
    "slideshow": {
     "slide_type": "slide"
    }
   },
   "source": [
    "3. Convert fastq to fasta:"
   ]
  },
  {
   "cell_type": "code",
   "execution_count": null,
   "metadata": {},
   "outputs": [],
   "source": [
    "seqtk seq -a <fastq> > <fasta> #seqtk has to be installed"
   ]
  },
  {
   "cell_type": "markdown",
   "metadata": {
    "slideshow": {
     "slide_type": "slide"
    }
   },
   "source": [
    "4. Subset specific fasta sequences from a multifasta file:"
   ]
  },
  {
   "cell_type": "code",
   "execution_count": null,
   "metadata": {},
   "outputs": [],
   "source": [
    "seqtk subseq <multifasta> <list-fasta-header-id> #seqtk has to be installed"
   ]
  },
  {
   "cell_type": "markdown",
   "metadata": {
    "slideshow": {
     "slide_type": "slide"
    }
   },
   "source": [
    "5. Get the sequence length and nucleotide distribution in a fasta file:"
   ]
  },
  {
   "cell_type": "code",
   "execution_count": null,
   "metadata": {},
   "outputs": [],
   "source": [
    "seqtk comp <fasta> #seqtk has to be installed"
   ]
  },
  {
   "cell_type": "markdown",
   "metadata": {
    "slideshow": {
     "slide_type": "slide"
    }
   },
   "source": [
    "# 2.1 Trimming and QC"
   ]
  },
  {
   "cell_type": "markdown",
   "metadata": {
    "slideshow": {
     "slide_type": "notes"
    }
   },
   "source": [
    "**Raw reads are imperfect** due to presence of primer and adapter sequences from WTA2, Nextera library prep,... and because NGS inherently produces some errors during base calling. The quality of such a base call gets encoded in a FASTQ file as a <a href=\"https://en.wikipedia.org/wiki/Phred_quality_score#:~:text=The%20FASTQ%20format%20encodes%20phred,efficacy%20of%20different%20sequencing%20methods.\" target=\"_blank\">PHRED-score</a>. This also means that the raw reads have to be filtered and trimmed for these imperfections. We can do this by using software (eg. Trimmomatic, cutadapt, etc.) that will trim the reads based on base call quality and the presence of adapter sequences provided by the user. However, it is best to check the quality of your samples also after trimming your reads."
   ]
  },
  {
   "cell_type": "markdown",
   "metadata": {
    "slideshow": {
     "slide_type": "slide"
    }
   },
   "source": [
    "## 2.1.1 Trimmomatic\n",
    "We start by trimming the reads in our sample with Trimmomatic, a flexible read trimming tool for Illumina NGS data."
   ]
  },
  {
   "cell_type": "markdown",
   "metadata": {
    "slideshow": {
     "slide_type": "slide"
    }
   },
   "source": [
    "The current Trimmomatic trimming steps are:\n",
    "\n",
    "- **ILLUMINACLIP**:<i>&lt;fastaWithAdaptersEtc&gt;:&lt;seed mismatches&gt;:&lt;palindrome clip&gt;:&lt;simple clip threshold&gt; </i><br /> Cuts adapter and other illumina-specific sequences from the read. You can provide a file with all sequences to cut (for this tutorial we use *primer_WTA2_Nextera.fa*).\n",
    "- **SLIDINGWINDOW**:<i>&lt;windowSize&gt;:&lt;requiredQuality&gt; </i><br />Performs a sliding window trimming, cutting once the average quality within the window falls below a threshold. By considering multiple bases, a single poor quality base will not cause the removal of high quality data later in the read. \n",
    "- **LEADING**:<i>&lt;quality&gt; </i> <br />Cuts bases off the start of a read, if below a threshold quality\n",
    "- **TRAILING**:<i>&lt;quality&gt; </i> <br />Cuts bases off the end of a read, if below a threshold quality\n",
    "- **CROP**:<i>&lt;length&gt; </i> <br />Cuts the read to a specified length\n",
    "- **HEADCROP**:<i>&lt;length&gt; </i> <br />Cuts the specified number of bases from the start of the read\n",
    "- **MINLEN**:<i>&lt;length&gt;</i> <br />Drops the read if it is below a specified length"
   ]
  },
  {
   "cell_type": "markdown",
   "metadata": {
    "slideshow": {
     "slide_type": "skip"
    }
   },
   "source": [
    "Trimmomatic works with FASTQ, either uncompressed or gzipp'ed FASTQ. Use of gzip format is determined based on the .gz extension.\n",
    "\n",
    "For single-ended data, one input and one output file are specified, plus the processing steps. For paired-end data, two input files are specified, and 4 output files, 2 for the 'paired' output where both reads survived the processing, and 2 for corresponding 'unpaired' output where a read survived, but the partner read did not."
   ]
  },
  {
   "cell_type": "markdown",
   "metadata": {
    "slideshow": {
     "slide_type": "slide"
    }
   },
   "source": [
    "Move to the directory where you stored the tutorial files and activate your <code>conda</code> environment"
   ]
  },
  {
   "cell_type": "code",
   "execution_count": null,
   "metadata": {
    "slideshow": {
     "slide_type": "-"
    }
   },
   "outputs": [],
   "source": [
    "cd ~/data/meta_tutorial\n",
    "pwd #make sure you're in the right directory\n",
    "conda activate virome_pipeline #activate conda environment"
   ]
  },
  {
   "cell_type": "markdown",
   "metadata": {
    "slideshow": {
     "slide_type": "-"
    }
   },
   "source": [
    "1. Make a `READ` folder where you will store the raw reads and within this folder make a `TRIMMED` folder where the trimmed reads will be stored:"
   ]
  },
  {
   "cell_type": "code",
   "execution_count": null,
   "metadata": {},
   "outputs": [],
   "source": [
    "mkdir READ\n",
    "mv metatoy.R* ./READ\n",
    "cd READ\n",
    "mkdir TRIMMED"
   ]
  },
  {
   "cell_type": "markdown",
   "metadata": {
    "slideshow": {
     "slide_type": "slide"
    }
   },
   "source": [
    "2. After unzipping the FASTQ files, start Trimmomatic:"
   ]
  },
  {
   "cell_type": "code",
   "execution_count": null,
   "metadata": {},
   "outputs": [],
   "source": [
    "pwd #your working directory should be $HOME/data/meta_tutorial/metatoy/READ/ if you used the same names as in this notebook\n",
    "\n",
    "pigz -d -p 20 -c metatoy.R1.fastq.gz > metatoy.R1.fastq\n",
    "pigz -d -p 20 -c metatoy.R2.fastq.gz > metatoy.R2.fastq\n",
    "\n",
    "trimmomatic PE -threads 5 metatoy.R1.fastq metatoy.R2.fastq \\ #input\n",
    "                TRIMMED/metatoy.R1.trimmed.fastq TRIMMED/metatoy.R1.unpaired.fastq \\ #output 1\n",
    "                TRIMMED/metatoy.R2.trimmed.fastq TRIMMED/metatoy.R2.unpaired.fastq \\ #output 2\n",
    "                ILLUMINACLIP:$HOME/data/meta_tutorial/primer_WTA2_Nextera.fa:2:30:10:1:true \\ #options\n",
    "                HEADCROP:19 LEADING:15 TRAILING:15 SLIDINGWINDOW:4:20 MINLEN:50 CROP:127"
   ]
  },
  {
   "cell_type": "markdown",
   "metadata": {
    "slideshow": {
     "slide_type": "slide"
    }
   },
   "source": [
    "<div class=\"alert alert-block alert-info\" style=\"color:#4195A4;background-color: white; border: 2px solid; padding: 15px;display:inline-block\">\n",
    "    <b><i class=\"fa fa-info-circle\" aria-hidden=\"true\"></i>&nbsp; Info</b><br>\n",
    "        <ul style=\"color: black\">\n",
    "            <li><code>PE</code> stands for Paired-end, for single-end reads use <code>SE</code></li>\n",
    "            <li>The backslash <code>\\</code> allows us to let the command continue over multiple lines</li>\n",
    "    </ul></div>"
   ]
  },
  {
   "cell_type": "markdown",
   "metadata": {
    "slideshow": {
     "slide_type": "slide"
    }
   },
   "source": [
    "<div class=\"alert alert-block\" style=\"color:purple;background-color: white; border: 2px solid; padding: 15px;display:inline-block\">\n",
    "    <b><i class=\"fa fa-pencil\"></i>&nbsp; Exercise</b><br><br>\n",
    "<p style=\"color:black\">Try to understand what all specified options do in the Trimmomatic command.</p>\n",
    "\n",
    "\n",
    "<details style=\"cursor:pointer;color:black\" >\n",
    "    <summary>Solutions for the Trimmomatic options </summary>\n",
    "    More info in the <a href=\"http://www.usadellab.org/cms/uploads/supplementary/Trimmomatic/TrimmomaticManual_V0.32.pdf\" target=\"_blank\">manual</a>\n",
    "    <br>\n",
    "    <hl><b> ILLUMINACLIP: </b></hl>\n",
    "        <li><code>~/data/meta_tutorial/primer_WTA2_Nextera.fa</code>: provides the path to the fasta file with adapter and primer sequences </li>\n",
    "        <li><code>2</code>: represents the number of max mismatches allowed to still perform a full match with an adapter sequence</li>\n",
    "        <li><code>30</code>: specifies how accurate the match between the two 'adapter ligated' reads must be for PE palindrome read alignment</li>\n",
    "        <li><code>10</code>: specifies how accurate the match between any adapter sequence must be against a read.</li>\n",
    "        <li><code>1</code>: a minimal adapter length of 1 allows for shorter adapter fragments to be removed </li>\n",
    "        <li><code>true</code>: retain the reverse read</li>\n",
    "    <br>\n",
    "    <hl><b>HEADCROP:</b></hl>\n",
    "    <li><code>19</code>: remove the first 19 bases of the read</li>\n",
    "    <br>\n",
    "    <hl><b>LEADING:</b></hl>\n",
    "    <li><code>15</code>: bases at the beginning of the read with a PHRED-score below 15 will be removed</li>\n",
    "    <br>\n",
    "    <hl><b>TRAILING:</b></hl>\n",
    "    <li><code>15</code>: bases at the end of the read with a PHRED-score below 15 will be removed</li>\n",
    "    <br>\n",
    "    <hl><b>SLIDINGWINDOW:</b></hl>\n",
    "    <li><code>4</code>: determines the window size at 4bp to slide over the read</li>\n",
    "    <li><code>20</code>: once the average quality in the window falls below 20, trimmomatic will cut the read</li>\n",
    "    <br>\n",
    "    <hl><b>MINLEN:</b></hl>\n",
    "    <li><code>50</code>: drop reads shorter than 50bp</li>\n",
    "    <br>\n",
    "    <hl><b>CROP:</b></hl>\n",
    "    <li><code>127</code>: cuts the read to a length of 127bp to ensure a good quality read</li>\n",
    "</details></div>"
   ]
  },
  {
   "cell_type": "markdown",
   "metadata": {
    "slideshow": {
     "slide_type": "slide"
    }
   },
   "source": [
    "3. Concatenate the unpaired reads together and in order to save storage space, remove all intermediary files and gzip the trimmed FASTQ files:"
   ]
  },
  {
   "cell_type": "code",
   "execution_count": null,
   "metadata": {},
   "outputs": [],
   "source": [
    "cat TRIMMED/metatoy.R1.unpaired.fastq TRIMMED/metatoy.R2.unpaired.fastq > TRIMMED/metatoy.unpaired.fastq\n",
    "rm TRIMMED/metatoy.R1.unpaired.fastq\n",
    "rm TRIMMED/metatoy.R2.unpaired.fastq\n",
    "rm metatoy.R1.fastq\n",
    "rm metatoy.R2.fastq\n",
    "cd TRIMMED\n",
    "\n",
    "pigz -p 20 -c -9 metatoy.R1.trimmed.fastq > metatoy.R1.trimmed.fastq.gz\n",
    "pigz -p 20 -c -9 metatoy.R2.trimmed.fastq > metatoy.R2.trimmed.fastq.gz\n",
    "pigz -p 20 -c -9 metatoy.unpaired.fastq > metatoy.unpaired.trimmed.fastq.gz\n",
    "\n",
    "rm metatoy.R1.trimmed.fastq\n",
    "rm metatoy.R2.trimmed.fastq\n",
    "rm metatoy.unpaired.fastq"
   ]
  },
  {
   "cell_type": "markdown",
   "metadata": {
    "slideshow": {
     "slide_type": "slide"
    }
   },
   "source": [
    "#### 2.1.2 FastQC\n",
    "Most sequencers will generate a QC report as part of their analysis pipeline, but this is usually only focused on identifying problems which were generated by the sequencer itself. FastQC aims to provide a QC report which can spot problems which originate either in the sequencer or in the starting library material.\n",
    "\n",
    "FastQC aims to provide a simple way to do some quality control checks on raw sequence data coming from high throughput sequencing pipelines. It is very useful software to visually inspect the quality of samples and runs for most of the current sequencing platforms (Illumina, IonTorrent, Nanopore, etc.)."
   ]
  },
  {
   "cell_type": "code",
   "execution_count": null,
   "metadata": {},
   "outputs": [],
   "source": [
    "cd ~/data/meta_tutorial\n",
    "mkdir fastqc_exercise\n",
    "fastqc -o fastqc_exercise/ -t 6 READ/TRIMMED/*.fastq.gz #the wildcard '*' is used to run `fastqc` on all FASTQ files within the 'TRIMMED' folder"
   ]
  },
  {
   "cell_type": "markdown",
   "metadata": {
    "slideshow": {
     "slide_type": "slide"
    }
   },
   "source": [
    "<div class=\"alert alert-block\" style=\"color:purple;background-color: white; border: 2px solid; padding: 10px\">\n",
    "    <b><i class=\"fa fa-pencil\"></i>&nbsp; Exercise</b><br>\n",
    "    <p style=\"color:black\"><b> FastQC comparison</b><br>\n",
    "Check the generated HTML-files and look if your sample passes QC. In the <code>fastqc</code> folder of the tutorial&#39;s repository, you can find the FastQC-files of the reads <strong>before</strong> and <strong>after</strong> trimming (the latter should be the same as your own). Have a look at them and pay attention to the differences, a brief comparison is given in the solutions notebook.</p></div>"
   ]
  },
  {
   "cell_type": "markdown",
   "metadata": {
    "slideshow": {
     "slide_type": "slide"
    }
   },
   "source": [
    "### 2.2 Removing contamination"
   ]
  },
  {
   "cell_type": "markdown",
   "metadata": {
    "slideshow": {
     "slide_type": "notes"
    }
   },
   "source": [
    "When working in the lab it is likely that you introduce contamination to your samples, for example because the reagents are contaminated. That's why we also sequence some negative controls. By assembling your negative controls first, you can create a **contaminome**. Subsequently, you can remove all reads in your samples that map to this contaminome."
   ]
  },
  {
   "cell_type": "markdown",
   "metadata": {
    "slideshow": {
     "slide_type": "slide"
    }
   },
   "source": [
    "#### 2.2.1 Mapping\n",
    "Mapping is a **specific case of local alignment** for aligning short sequences (reads) to a reference. This is performed by a short sequence aligner/mapper (eg. Bowtie, BWA, etc.). In this case, we align sequencing reads to the assembled contaminome sequences. The output of the mapping process is stored in **SAM-files** (Sequence Alignment Map) or their compressed equivalent **BAM** (Binary Alignment Map)."
   ]
  },
  {
   "cell_type": "markdown",
   "metadata": {
    "slideshow": {
     "slide_type": "slide"
    }
   },
   "source": [
    "<figure>\n",
    "    <center><img src=\"https://training.galaxyproject.org/training-material/topics/sequence-analysis/images/mapping/mapping.png\" width=\"50%\" heiht=\"50%\" /></center>\n",
    "    <center><figcaption><b>Overview of read mapping to a reference sequence</b></figcaption></center>\n",
    "    </figure>\n",
    "<br>"
   ]
  },
  {
   "cell_type": "markdown",
   "metadata": {
    "slideshow": {
     "slide_type": "notes"
    }
   },
   "source": [
    "We will use `bowtie2` to map the reads in our sample to the contaminome. To calculate the statistics of the mapping and to remove the mapped reads from our sample, we can use `samtools` and `bedtools`. <br />\n",
    "In this tutorial, the contaminome is already assembled and indexed with `bowtie2`. You can find the files in the `contaminome/` folder."
   ]
  },
  {
   "cell_type": "markdown",
   "metadata": {
    "slideshow": {
     "slide_type": "slide"
    }
   },
   "source": [
    "##### Bowtie\n",
    "<a target=\"_blank\" href=\"http://bowtie-bio.sourceforge.net/bowtie2/manual.shtml#introduction\">Bowtie2</a> is the enhanced version of the original Bowtie-mapper and is an ultrafast and memory-efficient tool for aligning sequencing reads to long reference sequences."
   ]
  },
  {
   "cell_type": "code",
   "execution_count": null,
   "metadata": {},
   "outputs": [],
   "source": [
    "cd ~/data/meta_tutorial/READ/TRIMMED\n",
    "bowtie2 --very-sensitive -p 8 -x ~/data/meta_tutorial/contaminome/contaminome -1 metatoy.R1.trimmed.fastq.gz -2 metatoy.R2.trimmed.fastq.gz -S mapunmap_pair.sam"
   ]
  },
  {
   "cell_type": "markdown",
   "metadata": {},
   "source": [
    "<div class=\"alert alert-block dark-alert\" style=\"background-color: white; border: 2px solid; padding: 15px;display:inline-block\">\n",
    "    <b><i class=\"fa fa-laptop\"></i>&nbsp; Command-line options</b><br>\n",
    "<ul style=\"color:black\">\n",
    "<li><code>-x</code> should point to the indexed reference sequence</li>\n",
    "<li><code>--very-sensitive</code> aligns the reads on a sensitive setting at the cost of speed</li>\n",
    "<li><code>-p</code> causes Bowtie2 to launch a specified number of parallel search threads</li>\n",
    "<li><code>-1</code> and <code>-2</code> should provide the input read files</li>\n",
    "<li><code>-S</code> specifies the output SAM file</li>\n",
    "</ul></div>"
   ]
  },
  {
   "cell_type": "markdown",
   "metadata": {
    "slideshow": {
     "slide_type": "slide"
    }
   },
   "source": [
    "#### 2.2.2 Removing mapped reads\n",
    "##### Samtools\n",
    "<a target=\"_blank\" href=\"http://www.htslib.org/\">Samtools</a> is a set of utilities that **manipulate alignments in the SAM/BAM format**. It imports from and exports to the SAM format, does sorting, merging and indexing, and allows to retrieve reads in any regions swiftly.\n",
    "\n",
    "An important function of `samtools` is the ability to keep or remove certain reads by specifying **SAM flags**. During mapping, reads are assigned a certain SAM flag. This number represents a certain combination of features of the alignment. Actually, the flag field consists of 10 bits, of which every bit is related to the absence (0) or presence (1) of a feature. So while the features are stored in bitwise fashion (0's and 1's), to report this number, the FLAG field converts these bits to a readable number, the number these bits represent. Unfortunately, this number is still very user-unfriendly to read. Luckily, there are **tools to convert this number into a feature list**, like <a href=\"https://broadinstitute.github.io/picard/explain-flags.html\" target=\"_blank\">this one</a>.\n",
    "<br>"
   ]
  },
  {
   "cell_type": "markdown",
   "metadata": {
    "slideshow": {
     "slide_type": "slide"
    }
   },
   "source": [
    "**Possible features of a read:**\n",
    "\n",
    "<table>\n",
    "<thead>\n",
    "    <tr>\n",
    "        <th align=\"left\">Feature</th>\n",
    "        <th align=\"left\"><span style=\"color:green\"><b>SAM Flag</b></span></th>\n",
    "    </tr>\n",
    "</thead>\n",
    "<tbody>\n",
    "    <tr>\n",
    "        <td align=\"left\">read paired</td>\n",
    "        <td align=\"right\">1</td>\n",
    "    </tr>\n",
    "    <tr>\n",
    "        <td align=\"left\">all mate reads are mapped</td>\n",
    "        <td align=\"right\">2</td>\n",
    "    </tr>\n",
    "    <tr>\n",
    "        <td align=\"left\">read unmapped</td>\n",
    "        <td align=\"right\">4</td>\n",
    "    </tr>\n",
    "    <tr>\n",
    "        <td align=\"left\">mate unmapped</td>\n",
    "        <td align=\"right\">8</td>\n",
    "    </tr>\n",
    "    <tr>\n",
    "        <td align=\"left\">read reverse strand</td>\n",
    "        <td align=\"right\">16</td>\n",
    "    </tr>\n",
    "    <tr>\n",
    "        <td align=\"left\">mate reverse strand</td>\n",
    "        <td align=\"right\">32</td>\n",
    "    </tr>\n",
    "    <tr>\n",
    "        <td align=\"left\">first read of pair</td>\n",
    "        <td align=\"right\">64</td>\n",
    "    </tr>\n",
    "    <tr>\n",
    "        <td align=\"left\">second read of pair</td>\n",
    "        <td align=\"right\">128</td>\n",
    "    </tr>\n",
    "    <tr>\n",
    "        <td align=\"left\">secondary alignment</td>\n",
    "        <td align=\"right\">256</td>\n",
    "    </tr>\n",
    "    <tr>\n",
    "        <td align=\"left\">read fails quality checks</td>\n",
    "        <td align=\"right\">512</td>\n",
    "    </tr>\n",
    "    <tr>\n",
    "        <td align=\"left\">read is PCR or optical duplicate</td>\n",
    "        <td align=\"right\">1024</td>\n",
    "    </tr>\n",
    "    <tr>\n",
    "        <td align=\"left\">supplementary alignment</td>\n",
    "        <td align=\"right\">2048</td>\n",
    "    </tr>\n",
    "</tbody>\n",
    "</table>"
   ]
  },
  {
   "cell_type": "markdown",
   "metadata": {
    "slideshow": {
     "slide_type": "slide"
    }
   },
   "source": [
    "**Some examples:**\n",
    "\n",
    "1. <span style=\"color:green\"><b>Flag 16</b></span> indicates a <b>read on the reverse strand</b>. <br />\n",
    "   **To exclude** all reads on the reverse strand we can use the `-F` option of `samtools`, `-f` on the other hand would **only include** reads on the reverse strand.\n",
    "\n",
    "2. By combining flags, multiple combinations of features can be made, eg. <span style=\"color:green\"><b>Flag 68</b></span> indicates that this read is the <b>first read of the pair (<span style=\"color:green\">flag 64</span>) and that it is unmapped (<span style=\"color:green\">flag 4</span>)</b>.\n",
    "\n",
    "Now to store all reads that don't map to the contaminome in a BAM file, we can use following piped commands:"
   ]
  },
  {
   "cell_type": "code",
   "execution_count": null,
   "metadata": {},
   "outputs": [],
   "source": [
    "samtools view -bS mapunmap_pair.sam | samtools view -b -f12 -F256 - | samtools sort -n - -o PEunmapped.sorted.bam"
   ]
  },
  {
   "cell_type": "markdown",
   "metadata": {
    "slideshow": {
     "slide_type": "slide"
    }
   },
   "source": [
    "<div class=\"alert alert-block\" style=\"color:purple;background-color: white; border: 2px solid; padding: 15px;display:inline-block\">\n",
    "    <b><i class=\"fa fa-pencil\"></i>&nbsp; Exercise</b><br><br>\n",
    "    <p style=\"color:black\">Try to figure out what <code>-f12</code> and <code>-F256</code> mean and think about why we would use these options?</p>\n",
    "\n",
    "<details style=\"cursor:pointer;color:black\">\n",
    "    <summary>Answer</summary>\n",
    "    <li><span style=\"color:green\"><b>Flag 12</b></span> specifies all <b>unmapped reads and their mate</b>, we keep these by specifying the <code>-f</code> option.</li>\n",
    "    <li><span style=\"color:green\"><b>Flag 256</b></span> indicates a <b>secondary alignment</b>, this occurs when a given read could align reasonably well to more than one place. <code>-F</code> excludes all those reads.</li> <br>\n",
    "    We use these specified options, because we like to exclude all reads that (ambiguously) map to our contaminome.\n",
    "</details></div>"
   ]
  },
  {
   "cell_type": "markdown",
   "metadata": {
    "slideshow": {
     "slide_type": "slide"
    }
   },
   "source": [
    "In the end, we want to convert the resulting BAM file back to a FASTQ file, which can be handled by `samtools fastq`. <br>\n",
    "`pigz` handles the compressing of the files to reduce required storage space."
   ]
  },
  {
   "cell_type": "code",
   "execution_count": null,
   "metadata": {
    "slideshow": {
     "slide_type": "-"
    }
   },
   "outputs": [],
   "source": [
    "samtools fastq -1 NCout.R1.fastq -2 NCout.R2.fastq -n PEunmapped.sorted.bam\n",
    "rm mapunmap_pair.sam\n",
    "rm PEunmapped.sorted.bam\n",
    "pigz -p 20 -c -9 NCout.R1.fastq > metatoy.NCout.R1.fastq.gz\n",
    "pigz -p 20 -c -9 NCout.R2.fastq > metatoy.NCout.R2.fastq.gz"
   ]
  },
  {
   "cell_type": "markdown",
   "metadata": {
    "slideshow": {
     "slide_type": "slide"
    }
   },
   "source": [
    "<div class=\"alert alert-block\" style=\"color:purple;background-color: white; border: 2px solid; padding: 15px;display:inline-block\">\n",
    "    <b><i class=\"fa fa-pencil\"></i>&nbsp; Exercise</b><br>\n",
    "<h4 id=\"exercise-2-2-1\" style=\"color:black\">Exercise 2.2-1</h4>\n",
    "<p style=\"color:black\">For the unpaired reads we can do the same as above, try to fill in the template below:<br>\n",
    "    <em>The solution can again be found in the solutions notebook</em><br>\n",
    "    </p></div>"
   ]
  },
  {
   "cell_type": "code",
   "execution_count": null,
   "metadata": {
    "slideshow": {
     "slide_type": "slide"
    }
   },
   "outputs": [],
   "source": [
    "bowtie2 --very-sensitive -p 20 -x ~/data/meta_tutorial/contaminome/contaminome -U metatoy.unpaired.trimmed.fastq.gz -S mapunmap_unpair.sam\n",
    "samtools view -bS mapunmap_unpair.sam | samtools view -b -f4 -F256 - | samtools sort -n - -o UPunmapped.sorted.bam\n",
    "samtools fastq -n UPunmapped.sorted.bam > NCout.unpaired.fastq\n",
    "rm mapunmap_unpair.sam\n",
    "rm UPunmapped.sorted.bam \n",
    "pigz -p 20 -c -9 NCout.unpaired.fastq > metatoy.NCout.unpaired.fastq.gz"
   ]
  },
  {
   "cell_type": "markdown",
   "metadata": {
    "slideshow": {
     "slide_type": "slide"
    }
   },
   "source": [
    "<b>Remove all uncompressed FASTQ files:</b>"
   ]
  },
  {
   "cell_type": "code",
   "execution_count": null,
   "metadata": {},
   "outputs": [],
   "source": [
    "rm NCout.*.fastq"
   ]
  },
  {
   "cell_type": "markdown",
   "metadata": {
    "slideshow": {
     "slide_type": "slide"
    }
   },
   "source": [
    "<div class=\"alert alert-block\" style=\"color:purple;background-color: white; border: 2px solid; padding: 15px;display:inline-block\">\n",
    "    <b><i class=\"fa fa-pencil\"></i>&nbsp; Exercise</b><br>\n",
    "<h4 id=\"exercise-2-2-2\" style=\"color:black\">Exercise 2.2-2</h4>\n",
    "<p style=\"color:black\">Check how many reads are in the raw FASTQ files and how many reads are left in the decontaminated files.</p>\n",
    "\n",
    "\n",
    "<details style=\"cursor:pointer;color:black\">\n",
    "    <summary>Answer</summary>\n",
    "    The commands that you had to use are listed in the solutions.\n",
    "    <ul>\n",
    "    <li>The raw FASTQ file have each <b>10,957,589</b> reads, thus a total of <b>21,915,178</b>.<br></li>\n",
    "    <li>Trimmed and decontaminated FASTQ files:</li>\n",
    "    <ul>\n",
    "        <li><em>metatoy.NCout.R1.fastq.gz</em>: <b>4,696,498</b></li>\n",
    "        <li><em>metatoy.NCout.R2.fastq.gz</em>: <b>4,696,498</b></li>\n",
    "        <li><em>metatoy.NCout.unpaired.fastq.gz</em>: <b>7,358,768</b></li>\n",
    "    </ul></ul><br>\n",
    "    This sums up to a total of <b>16,751,764</b> reads.<br>\n",
    "    This means that after quality trimming and decontamination we lost <b>5,163,414</b> reads.\n",
    "    </details></div>\n",
    "    "
   ]
  },
  {
   "cell_type": "markdown",
   "metadata": {
    "slideshow": {
     "slide_type": "slide"
    }
   },
   "source": [
    "## 2.3 Assembly"
   ]
  },
  {
   "cell_type": "markdown",
   "metadata": {
    "slideshow": {
     "slide_type": "notes"
    }
   },
   "source": [
    "Now that we have our contaminant-filtered and trimmed reads, we have to reconstruct the genomes to which they belong. We can do this by **assembling** all reads into **contigs** (contiguous sequence) and finally into **scaffolds**. The goal of whole-genome shotgun assembly is to represent each genomic sequence in one scaffold; however, this is not always possible. It depends on how completely the genome can be reconstructed, or assembled, from the available reads."
   ]
  },
  {
   "cell_type": "markdown",
   "metadata": {
    "slideshow": {
     "slide_type": "slide"
    }
   },
   "source": [
    "There are two types of assemblies: \n",
    "1. a __reference-guided assembly__: Your reads will get assembled based on a reference sequence you provide. This is used when you know what you are sequencing.\n",
    "2. a __*de novo* assembly__: This method constructs genomes from a large number of (short- or long-) DNA fragments, with no *a priori* knowledge of the correct sequence or order of those fragments (see images below).\n",
    "    \n",
    "<table>\n",
    "    <tr>\n",
    "    <td> <img src=\"https://www.arraygen.com/images/de-novo.png\" style=\"margin-left:75px\"/> </td>\n",
    "    <td>\n",
    "         <img src=\"https://github.com/Matthijnssenslab/tutorial_images/blob/main/PE_scaffolds.jpg?raw=true\" width=\"70%\" height=\"70%\" style=\"float:right;margin-right:75px\" />\n",
    "    </td>\n",
    "    </tr>\n",
    "    <tr style=\"background-color: white\">\n",
    "        <td align=\"center\"> <b><i>de novo</i> assembly</b> </td>\n",
    "        <td align=\"right\" style=\"float:right;margin-right:50px\"> <b>The gaps in a scaffold can be estimated because the paired-end reads may overlap multiple contigs</b></td>\n",
    "    </tr>\n",
    "</table>\n",
    "\n",
    "<br>"
   ]
  },
  {
   "cell_type": "markdown",
   "metadata": {
    "slideshow": {
     "slide_type": "slide"
    }
   },
   "source": [
    "### Metaspades\n",
    "We will use <a href=\"https://cab.spbu.ru/software/spades/\" target=\"_blank\">(meta)SPAdes</a> to *de novo* assemble our reads, because it has proven to be a **very robust assembler of metagenomic data**. SPAdes uses a **range of k-mers with different sizes** for building an initial *de Bruijn graph* and on following stages it performs graph-theoretical operations which are based on graph structure, coverage and sequence lengths.<br> \n",
    "<a href=\"https://www.youtube.com/watch?v=TNYZZKrjCSk\" target=\"_blank\">This video</a> explains what a *de Bruijn graph* is and why it is superior to *overlap graphs* for handling repetitive regions in a sequence. <a href=\"https://www.youtube.com/watch?v=0Ho2__cFsVY\" target=\"_blank\">This video</a> explains sequence assemblers in more detail.<br>"
   ]
  },
  {
   "cell_type": "markdown",
   "metadata": {
    "slideshow": {
     "slide_type": "slide"
    }
   },
   "source": [
    "<div class=\"alert alert-block alert-info\" style=\"color:#4195A4;background-color: white; border: 2px solid; padding: 15px;display:inline-block\">\n",
    "    <b><i class=\"fa fa-info-circle\" aria-hidden=\"true\"></i>&nbsp; Info</b><br>\n",
    "    <div style=\"color:black\">The <b>stages of assembly in SPAdes</b> are:<br>\n",
    "<br>\n",
    "        Stage 1: assembly graph construction. SPAdes employs multisized <em>de Bruijn graphs</em>, which detect and remove bulge (errors in the middle of a read) and chimeric reads. <br> \n",
    "Stage 2: k-bimer (pairs of k-mers) adjustment. Exact distances between k-mers in the genome (edges in the assembly graph) are estimated.  <br>\n",
    "Stage 3: paired assembly graph construction.  <br>\n",
    "Stage 4: contig construction. SPAdes outputs contigs and allows to map reads back to their positions in the assembly graph after graph simplification (backtracking).</div></div>"
   ]
  },
  {
   "cell_type": "markdown",
   "metadata": {
    "slideshow": {
     "slide_type": "slide"
    }
   },
   "source": [
    "<div class=\"alert alert-block alert-success\" style=\"background-color: white; border: 2px solid; padding: 15px;display:inline-block\"><a id=\"tmux\" style=\"text-decoration:none;cursor:default;color:black\"></a>\n",
    "    <b><i class=\"fa fa-lightbulb-o\"></i>&nbsp; Tip</b><br>\n",
    "    <div style=\"color: black\">\n",
    "        The SPAdes software can take some time to run (~40 minutes real time and ~9.5 hours processor time for this specific toy dataset). When a command is running in a 'normal' terminal window, you can not close it/disconnect, otherwise the program will be interrupted! Therefore it is a good idea to <b>use a terminal multiplexer</b> for long-running commands.<br>\n",
    "<br>\n",
    "<code>tmux</code> is such a terminal multiplexer, which means that you can start a <code>tmux</code> session and then open multiple windows inside that session.\n",
    "<code>tmux</code> sessions are persistent, which means that programs running in <code>tmux</code> will continue to run even if you get disconnected. More information can be found <a target=\"_blank\" href=\"https://linuxize.com/post/getting-started-with-tmux/\">here</a>, but to get started:<br>\n",
    "        <ol>\n",
    "            <li>Create a named <code>tmux</code> session from the terminal:<br>\n",
    "                <code style=\"bash-lang\">tmux new -s <em>&lt;session_name&gt;</em></code></li>\n",
    "            <li>Now you can start the software (make sure you're in the right working directory and activate your conda environment!).</li>\n",
    "            <li>To detach from the <code>tmux</code> session press <kbd>Ctrl</kbd>+<kbd>b</kbd>, followed by <kbd>d</kbd>. This brings you back to your original terminal window. <blockquote>All commands in <code>tmux</code> start with a prefix, which is by default <kbd>Ctrl</kbd>+<kbd>b</kbd>. To get an overview of all commands you can use, press <kbd>Ctrl</kbd>+<kbd>b</kbd> <kbd>?</kbd></blockquote></li>\n",
    "            <li>To reattach to your <code>tmux</code> session you can type:<br>\n",
    "                <code style=\"bash-lang\">tmux a -t <em>&lt;session_name&gt;</em></code>\n",
    "                <blockquote>For an overview of all your open <code>tmux</code> sessions, type <code>tmux ls</code> in a normal terminal window.</blockquote></li>\n",
    "            <li>When you want to close a <code>tmux</code> session, simply type <code>exit</code> from within the session.\n",
    "        </ol></div></div>"
   ]
  },
  {
   "cell_type": "code",
   "execution_count": null,
   "metadata": {
    "slideshow": {
     "slide_type": "slide"
    }
   },
   "outputs": [],
   "source": [
    "cd ~/data/meta_tutorial/\n",
    "metaspades.py -1 ./READ/TRIMMED/metatoy.NCout.R1.fastq.gz -2 ./READ/TRIMMED/metatoy.NCout.R2.fastq.gz \\\n",
    "            -s ./READ/TRIMMED/metatoy.NCout.unpaired.fastq.gz -t 8 -k 21,33,55,77 -o metatoy\n",
    "mv metatoy ASSEMBLY\n",
    "cd ASSEMBLY\n",
    "mv scaffolds.fasta metatoy.scaffolds.fasta"
   ]
  },
  {
   "cell_type": "markdown",
   "metadata": {},
   "source": [
    "<div class=\"alert alert-block dark-alert\" style=\"background-color: white; border: 2px solid; padding: 15px;display:inline-block\">\n",
    "    <b><i class=\"fa fa-laptop\"></i>&nbsp; Command-line options</b><br>\n",
    "<ul style=\"color:black\">\n",
    "<li><code>-1</code>, <code>-2</code> and <code>-s</code> point to the read files</li>\n",
    "<li><code>-t</code> specifies how much threads to use (basically how many parallel tasks the cpu may perform, this can speed up a program tremendously)</li>\n",
    "<li><code>-k</code> indicates the k-mer sizes to use to build the <em>de Bruijn graphs</em>. All values must be odd, less than 128 and listed in ascending order.</li>\n",
    "<li><code>-o</code> output</li>\n",
    "</ul></div>"
   ]
  },
  {
   "cell_type": "markdown",
   "metadata": {
    "slideshow": {
     "slide_type": "slide"
    }
   },
   "source": [
    "<div class=\"alert alert-block\" style=\"color:purple;background-color: white; border: 2px solid; padding: 15px;display:inline-block\">\n",
    "    <b><i class=\"fa fa-pencil\"></i>&nbsp; Exercise</b><br>\n",
    "<h4 id=\"exercise-2-3-1\" style=\"color:black\">Exercise 2.3-1</h4>\n",
    "<p style=\"color:black\">How many scaffolds got assembled? How many bases are in the longest sequence? And how many in the shortest?</p>\n",
    "    <details style=\"cursor:pointer;color:black\">\n",
    "    <summary>Answer</summary>\n",
    "        <ol>\n",
    "            <li><b>7818</b> scaffolds</li>\n",
    "            <li><b>152517 bases</b> in the longest</li>\n",
    "            <li><b>78 bases</b> in the shortest</li>\n",
    "        </ol>\n",
    "        <p style=\"color:black\"> Check the solutions notebook for the commands you had to use to find the answers above.</p>\n",
    "    </details></div>"
   ]
  },
  {
   "cell_type": "markdown",
   "metadata": {
    "slideshow": {
     "slide_type": "slide"
    }
   },
   "source": [
    "##### SPAdes output\n",
    "SPAdes outputs a `contigs.fasta` file and a `scaffolds.fasta` file, we will use the scaffolds FASTA further in this pipeline. To add the sample name in the header of each scaffold, we use `sed` which can handle basic text transformations."
   ]
  },
  {
   "cell_type": "code",
   "execution_count": null,
   "metadata": {},
   "outputs": [],
   "source": [
    "sed -i \"s/>.*/&_metatoy/\" metatoy.scaffolds.fasta"
   ]
  },
  {
   "cell_type": "markdown",
   "metadata": {
    "slideshow": {
     "slide_type": "slide"
    }
   },
   "source": [
    "<div class=\"alert alert-block alert-info\" style=\"color:#4195A4;background-color: white; border: 2px solid; padding: 15px;display:inline-block\">\n",
    "    <b><i class=\"fa fa-info-circle\" aria-hidden=\"true\"></i>&nbsp; How <code>sed</code> works</b><br>\n",
    "        <ul style=\"color: black\">\n",
    "<li><code>-i</code> to edit a file in-place instead of printing to standard output</li>\n",
    "            <li><code>\"s/>.*/&_metatoy/\"</code>:</li></ul>\n",
    "\n",
    "<p style=\"color:black\">There are <span class=\"hljs-literal\">four</span> parts <span class=\"hljs-built_in\">to</span> <span class=\"hljs-keyword\">a</span> substitute <span class=\"hljs-keyword\">command</span>:<br></p>\n",
    "    <code><b>\"s/ONE/one/\"</b></code><pre><code class=\"lang-bash\">\n",
    "s        Substitute <span class=\"hljs-keyword\">command</span>\n",
    "/../../  Delimiter\n",
    "<span class=\"hljs-literal\">ONE</span>      Regular Expression Search Pattern\n",
    "<span class=\"hljs-literal\">one</span>      Replacement <span class=\"hljs-keyword\">string</span>\n",
    "</code></pre>\n",
    "<br>  \n",
    "<p style=\"color: black\">\n",
    "    Here we use <code>>.*</code> to find all lines that start with '>' (fasta header) and use the <code>&</code> symbol to append '_metatoy' to the header.</p>\n",
    "    </div>"
   ]
  },
  {
   "cell_type": "markdown",
   "metadata": {
    "slideshow": {
     "slide_type": "slide"
    }
   },
   "source": [
    "## 2.4 Taxonomical annotation"
   ]
  },
  {
   "cell_type": "markdown",
   "metadata": {
    "slideshow": {
     "slide_type": "slide"
    }
   },
   "source": [
    "### Measuring similarity\n",
    "\n",
    "Sequences or after assembly, contigs or scaffolds, can be identified based on similarity with known sequences in databases. <br>\n",
    "\n",
    "**Similarity can be measured by:** \n",
    "* k-mer profile matching (eg. Kraken2)\n",
    "* fitness to a model (eg. fitness to a hidden Markov-model with HMMER) \n",
    "* similarity in alignments <br> \n",
    "\n",
    "There are many programs and implementations for each, but one of the best known is <a href=\"https://blast.ncbi.nlm.nih.gov/Blast.cgi\" target=\"_blank\">BLAST</a> which finds regions of similarity in sequences by alignment."
   ]
  },
  {
   "cell_type": "markdown",
   "metadata": {
    "slideshow": {
     "slide_type": "slide"
    }
   },
   "source": [
    "**From Blast, there are several options to query information:**\n",
    "\n",
    "<table align =\"left\">\n",
    "    <thead>\n",
    "    <tr>\n",
    "    <th style=\"text-align:left\">BLAST</th>\n",
    "    <th style=\"text-align:left\">Query</th>\n",
    "    <th style=\"text-align:left\">Subject</th>\n",
    "    <th style=\"text-align:center\">DIAMOND</th>\n",
    "    </tr>\n",
    "    </thead>\n",
    "    <tbody>\n",
    "    <tr>\n",
    "    <td style=\"text-align:left\">blastn</td>\n",
    "    <td style=\"text-align:left\">nucleotide</td>\n",
    "    <td style=\"text-align:left\">nucleotide</td>\n",
    "    <td style=\"text-align:center\">&cross;</td>\n",
    "    </tr>\n",
    "    <tr>\n",
    "    <td style=\"text-align:left\">blastp</td>\n",
    "    <td style=\"text-align:left\">protein</td>\n",
    "    <td style=\"text-align:left\">protein</td>\n",
    "    <td style=\"text-align:center\">&check;</td>\n",
    "    </tr>\n",
    "    <tr>\n",
    "    <td style=\"text-align:left\">tblastn</td>\n",
    "    <td style=\"text-align:left\">protein</td>\n",
    "    <td style=\"text-align:left\">translated-nucleotide</td>\n",
    "    <td style=\"text-align:center\">&cross;</td>\n",
    "    </tr>\n",
    "    <tr>\n",
    "    <td style=\"text-align:left\">blastx</td>\n",
    "    <td style=\"text-align:left\">translated-nucleotide</td>\n",
    "    <td style=\"text-align:left\">protein</td>\n",
    "    <td style=\"text-align:center\">&check;</td>\n",
    "    </tr>\n",
    "    <tr>\n",
    "    <td style=\"text-align:left\">tblastx</td>\n",
    "    <td style=\"text-align:left\">translated-nucleotide</td>\n",
    "    <td style=\"text-align:left\">translated-nucleotide</td>\n",
    "    <td style=\"text-align:center\">&cross;</td>\n",
    "    </tr>\n",
    "    </tbody>\n",
    "</table>\n",
    "\n",
    "<br clear=\"left\" />\n",
    "\n",
    "<div class=\"alert alert-block alert-info\" style=\"color:#4195A4;background-color: white; border: 2px solid; padding: 15px;display:inline-block\">\n",
    "    <b><i class=\"fa fa-info-circle\" aria-hidden=\"true\"></i>&nbsp; Info</b><br>\n",
    "    <p style=\"color:black\">Be aware that all nucleotide translations occur in 6-frames.</p></div>"
   ]
  },
  {
   "cell_type": "markdown",
   "metadata": {
    "slideshow": {
     "slide_type": "slide"
    }
   },
   "source": [
    "#### 2.4.1 DIAMOND\n",
    "\n",
    "When querying a large database like the non-redundant protein database of NCBI (nr), it can take a long time for BLAST to finish the search. This is why we will use **DIAMOND**.\n",
    "\n",
    "<a href=\"https://www.nature.com/articles/nmeth.3176\" target=\"_blank\">DIAMOND</a> is a sequence aligner for protein and translated DNA searches, designed for high performance analysis of big sequence data. An important feature is its speed, it is able to align sequences 100 up to 20,000 times faster than BLAST with a similar degree of sensitivity. DIAMOND can only perform a pairwise-alignment of protein and translated-nucleotide sequences (see table above).<br>\n",
    "\n",
    "With <code>diamond blastx</code>, we will first <b>translate our assembled scaffolds into amino acid sequences</b> and subsequently <b>align these against NCBI's non-redundant protein database</b>. This is a very large database (~165GB in compressed format), therefore you can point to an already available database in this path <code>/home/luna.kuleuven.be/u0140985/data/db/Diamond/nr.dmnd</code>"
   ]
  },
  {
   "cell_type": "markdown",
   "metadata": {
    "slideshow": {
     "slide_type": "slide"
    }
   },
   "source": [
    "<div class=\"alert alert-block alert-success\" style=\"background-color: white; border: 2px solid; padding: 15px;display:inline-block\">\n",
    "    <b><i class=\"fa fa-lightbulb-o\"></i>&nbsp; Tip</b><br>\n",
    "    <div style=\"color:black\">\n",
    "    Also the DIAMOND software takes some time to run (~1.5 hours), so use again a <a href=\"#tmux\">tmux session</a>.\n",
    "    </div></div>"
   ]
  },
  {
   "cell_type": "code",
   "execution_count": null,
   "metadata": {
    "slideshow": {
     "slide_type": "slide"
    }
   },
   "outputs": [],
   "source": [
    "cd ~/data/meta_tutorial/\n",
    "mkdir DIAMOND\n",
    "cd DIAMOND\n",
    "\n",
    "diamond blastx -d /mnt/storage/u0140985/db/Diamond/nr.dmnd -q ../ASSEMBLY/metatoy.scaffolds.fasta \\\n",
    "                -a metatoy -p 8 -c 1 --sensitive --tmpdir /dev/shm"
   ]
  },
  {
   "cell_type": "markdown",
   "metadata": {},
   "source": [
    "<div class=\"alert alert-block dark-alert\" style=\"background-color: white; border: 2px solid; padding: 15px;display:inline-block\">\n",
    "    <b><i class=\"fa fa-laptop\"></i>&nbsp; Command-line options</b><br>\n",
    "<ul style=\"color:black\">\n",
    "<li><code>-d</code> points to the database to query</li>\n",
    "<li><code>-q</code> points to our scaffolds file with sequences for which we want to know the annotation</li>\n",
    "<li><code>-a</code> specifies the filename of the DAA</li>\n",
    "<li><code>-p</code> specifies how much threads to use</li>\n",
    "<li>the <code>--sensitive</code> option enables the sensitive mode designed for full sensitivity for hits &gt;40% identity</li>\n",
    "<li><code>-c</code> is the number of indexed chunks, setting this parameter to 1 will improve the performance at the cost of increased memory use</li>\n",
    "<li><code>--tmpdir</code> specifies the directory where to store temporary files, the <code>/dev/shm</code> directory keeps these files in the working memory while running DIAMOND but does not take up storage space</li>\n",
    "</ul>\n",
    "</div>\n",
    "\n",
    "<p style=\"color:black\"><code>diamond blastx</code> creates a DIAMOND Alignment Archive (DAA) which can be formatted to a tabular output with <code>diamond view</code>.</p>"
   ]
  },
  {
   "cell_type": "code",
   "execution_count": null,
   "metadata": {
    "slideshow": {
     "slide_type": "slide"
    }
   },
   "outputs": [],
   "source": [
    "diamond view -d /mnt/storage/u0140985/db/Diamond/nr.dmnd -a metatoy -o metatoy.m8"
   ]
  },
  {
   "cell_type": "markdown",
   "metadata": {
    "slideshow": {
     "slide_type": "slide"
    }
   },
   "source": [
    "The `.m8` file shows the best 25 hits of DIAMOND for each scaffold in a tabular format.\n",
    "\n",
    "**Header of the <code>diamond view</code> output file:**\n",
    "\n",
    "<table align=\"left\" style=\"border: black solid 1px\">\n",
    "<tbody>\n",
    "<tr>\n",
    "<td><strong>Query ID</strong></td>\n",
    "<td>Name of query sequence</td>\n",
    "</tr>\n",
    "<tr>\n",
    "<td><strong>Subject ID</strong></td>\n",
    "<td>Accesion number of subject sequence</td>\n",
    "</tr>\n",
    "<tr>\n",
    "<td><strong>% Identity</strong></td>\n",
    "<td>percentage of identical matches</td>\n",
    "</tr>\n",
    "<tr>\n",
    "<td><strong>length</strong></td>\n",
    "<td>alignment length (sequence overlap)</td>\n",
    "</tr>\n",
    "<tr>\n",
    "<td><strong>mismatch</strong></td>\n",
    "<td>number of mismatches</td>\n",
    "</tr>\n",
    "<tr>\n",
    "<td><strong>gapopen</strong></td>\n",
    "<td>number of gap openings</td>\n",
    "</tr>\n",
    "<tr>\n",
    "<td><strong>qstart</strong></td>\n",
    "<td>start of alignment in query</td>\n",
    "</tr>\n",
    "<tr>\n",
    "<td><strong>qend</strong></td>\n",
    "<td>end of alignment in query</td>\n",
    "</tr>\n",
    "<tr>\n",
    "<td><strong>sstart</strong></td>\n",
    "<td>start of alignment in subject</td>\n",
    "</tr>\n",
    "<tr>\n",
    "<td><strong>send</strong></td>\n",
    "<td>end of alignment in subject</td>\n",
    "</tr>\n",
    "<tr>\n",
    "<td><strong>evalue</strong></td>\n",
    "<td>expect value</td>\n",
    "</tr>\n",
    "<tr>\n",
    "<td><strong>bitscore</strong></td>\n",
    "<td>bit score</td>\n",
    "</tr>\n",
    "</tbody>\n",
    "</table>"
   ]
  },
  {
   "cell_type": "markdown",
   "metadata": {
    "slideshow": {
     "slide_type": "slide"
    }
   },
   "source": [
    "<br>\n",
    "<b>Example of the <code>diamond view</code> output file:</b>\n",
    "<table>\n",
    "<thead>\n",
    "<tr>\n",
    "<th style=\"text-align:left\">Scaffold name (query ID)</th>\n",
    "<th style=\"text-align:left\">Accession nr. (subject ID)</th>\n",
    "<th style=\"text-align:right\">% Identity</th>\n",
    "<th style=\"text-align:right\">length</th>\n",
    "<th style=\"text-align:right\">mismatches</th>\n",
    "<th style=\"text-align:right\">gap openings</th>\n",
    "<th>qstart</th>\n",
    "<th>qend</th>\n",
    "<th style=\"text-align:right\">sstart</th>\n",
    "<th>send</th>\n",
    "<th style=\"text-align:right\">e-value</th>\n",
    "<th style=\"text-align:right\">bitscore</th>\n",
    "</tr>\n",
    "</thead>\n",
    "<tbody>\n",
    "<tr>\n",
    "<td style=\"text-align:left\">...</td>\n",
    "<td style=\"text-align:left\"></td>\n",
    "<td style=\"text-align:right\"></td>\n",
    "<td style=\"text-align:right\"></td>\n",
    "<td style=\"text-align:right\"></td>\n",
    "<td style=\"text-align:right\"></td>\n",
    "<td></td>\n",
    "<td></td>\n",
    "<td style=\"text-align:right\"></td>\n",
    "<td></td>\n",
    "<td style=\"text-align:right\"></td>\n",
    "<td style=\"text-align:right\"></td>\n",
    "</tr>\n",
    "<tr>\n",
    "<td style=\"text-align:left\">NODE_1_length_152443_cov_1166.465412_metatoy</td>\n",
    "<td style=\"text-align:left\">YP_009617752.1</td>\n",
    "<td style=\"text-align:right\">84.1</td>\n",
    "<td style=\"text-align:right\">1612</td>\n",
    "<td style=\"text-align:right\">256</td>\n",
    "<td style=\"text-align:right\">0</td>\n",
    "<td>94773</td>\n",
    "<td>89938</td>\n",
    "<td style=\"text-align:right\">1</td>\n",
    "<td>1612</td>\n",
    "<td style=\"text-align:right\">0.0e+00</td>\n",
    "<td style=\"text-align:right\">2726.8</td>\n",
    "</tr>\n",
    "<tr>\n",
    "<td style=\"text-align:left\">NODE_1_length_152443_cov_1166.465412_metatoy</td>\n",
    "<td style=\"text-align:left\">YP_009887717.1</td>\n",
    "<td style=\"text-align:right\">84.1</td>\n",
    "<td style=\"text-align:right\">1612</td>\n",
    "<td style=\"text-align:right\">257</td>\n",
    "<td style=\"text-align:right\">0</td>\n",
    "<td>94773</td>\n",
    "<td>89938</td>\n",
    "<td style=\"text-align:right\">1</td>\n",
    "<td>1612</td>\n",
    "<td style=\"text-align:right\">0.0e+00</td>\n",
    "<td style=\"text-align:right\">2725.7</td>\n",
    "</tr>\n",
    "<tr>\n",
    "<td style=\"text-align:left\">NODE_1_length_152443_cov_1166.465412_metatoy</td>\n",
    "<td style=\"text-align:left\">YP_008771660.1</td>\n",
    "<td style=\"text-align:right\">84.0</td>\n",
    "<td style=\"text-align:right\">1612</td>\n",
    "<td style=\"text-align:right\">258</td>\n",
    "<td style=\"text-align:right\">0</td>\n",
    "<td>94773</td>\n",
    "<td>89938</td>\n",
    "<td style=\"text-align:right\">1</td>\n",
    "<td>1612</td>\n",
    "<td style=\"text-align:right\">0.0e+00</td>\n",
    "<td style=\"text-align:right\">2725.3</td>\n",
    "</tr>\n",
    "<tr>\n",
    "<td style=\"text-align:left\">NODE_1_length_152443_cov_1166.465412_metatoy</td>\n",
    "<td style=\"text-align:left\">AYJ73679.1</td>\n",
    "<td style=\"text-align:right\">83.9</td>\n",
    "<td style=\"text-align:right\">1612</td>\n",
    "<td style=\"text-align:right\">259</td>\n",
    "<td style=\"text-align:right\">0</td>\n",
    "<td>94773</td>\n",
    "<td>89938</td>\n",
    "<td style=\"text-align:right\">1</td>\n",
    "<td>1612</td>\n",
    "<td style=\"text-align:right\">0.0e+00</td>\n",
    "<td style=\"text-align:right\">2723.7</td>\n",
    "</tr>\n",
    "<tr>\n",
    "<td style=\"text-align:left\">NODE_1_length_152443_cov_1166.465412_metatoy</td>\n",
    "<td style=\"text-align:left\">EGJ6623213.1</td>\n",
    "<td style=\"text-align:right\">83.9</td>\n",
    "<td style=\"text-align:right\">1612</td>\n",
    "<td style=\"text-align:right\">260</td>\n",
    "<td style=\"text-align:right\">0</td>\n",
    "<td>94773</td>\n",
    "<td>89938</td>\n",
    "<td style=\"text-align:right\">1</td>\n",
    "<td>1612</td>\n",
    "<td style=\"text-align:right\">0.0e+00</td>\n",
    "<td style=\"text-align:right\">2723.7</td>\n",
    "</tr>\n",
    "<tr>\n",
    "<td style=\"text-align:left\">NODE_2_length_31607_cov_0.550460_metatoy</td>\n",
    "<td style=\"text-align:left\">PHU22553.1</td>\n",
    "<td style=\"text-align:right\">99.5</td>\n",
    "<td style=\"text-align:right\">425</td>\n",
    "<td style=\"text-align:right\">2</td>\n",
    "<td style=\"text-align:right\">0</td>\n",
    "<td>31607</td>\n",
    "<td>30333</td>\n",
    "<td style=\"text-align:right\">41</td>\n",
    "<td>465</td>\n",
    "<td style=\"text-align:right\">8.9e-289</td>\n",
    "<td style=\"text-align:right\">890.2</td>\n",
    "</tr>\n",
    "<tr>\n",
    "<td style=\"text-align:left\">NODE_2_length_31607_cov_0.550460_metatoy</td>\n",
    "<td style=\"text-align:left\">PHT25532.1</td>\n",
    "<td style=\"text-align:right\">99.5</td>\n",
    "<td style=\"text-align:right\">425</td>\n",
    "<td style=\"text-align:right\">2</td>\n",
    "<td style=\"text-align:right\">0</td>\n",
    "<td>31607</td>\n",
    "<td>30333</td>\n",
    "<td style=\"text-align:right\">41</td>\n",
    "<td>465</td>\n",
    "<td style=\"text-align:right\">3.4e-288</td>\n",
    "<td style=\"text-align:right\">890.2</td>\n",
    "</tr>\n",
    "<tr>\n",
    "<td style=\"text-align:left\">NODE_2_length_31607_cov_0.550460_metatoy</td>\n",
    "<td style=\"text-align:left\">YP_008563087.1</td>\n",
    "<td style=\"text-align:right\">100.0</td>\n",
    "<td style=\"text-align:right\">425</td>\n",
    "<td style=\"text-align:right\">0</td>\n",
    "<td style=\"text-align:right\">0</td>\n",
    "<td>31607</td>\n",
    "<td>30333</td>\n",
    "<td style=\"text-align:right\">41</td>\n",
    "<td>465</td>\n",
    "<td style=\"text-align:right\">1.9e-286</td>\n",
    "<td style=\"text-align:right\">892.5</td>\n",
    "</tr>\n",
    "<tr>\n",
    "<td style=\"text-align:left\">NODE_2_length_31607_cov_0.550460_metatoy</td>\n",
    "<td style=\"text-align:left\">YP_009171781.1</td>\n",
    "<td style=\"text-align:right\">99.8</td>\n",
    "<td style=\"text-align:right\">425</td>\n",
    "<td style=\"text-align:right\">1</td>\n",
    "<td style=\"text-align:right\">0</td>\n",
    "<td>31607</td>\n",
    "<td>30333</td>\n",
    "<td style=\"text-align:right\">41</td>\n",
    "<td>465</td>\n",
    "<td style=\"text-align:right\">4.8e-286</td>\n",
    "<td style=\"text-align:right\">891.3</td>\n",
    "</tr>\n",
    "<tr>\n",
    "<td style=\"text-align:left\">...</td>\n",
    "<td style=\"text-align:left\"></td>\n",
    "<td style=\"text-align:right\"></td>\n",
    "<td style=\"text-align:right\"></td>\n",
    "<td style=\"text-align:right\"></td>\n",
    "<td style=\"text-align:right\"></td>\n",
    "<td></td>\n",
    "<td></td>\n",
    "<td style=\"text-align:right\"></td>\n",
    "<td></td>\n",
    "<td style=\"text-align:right\"></td>\n",
    "</tr>\n",
    "</tbody>\n",
    "</table>\n",
    "\n",
    "<br clear=\"left\"/>"
   ]
  },
  {
   "cell_type": "markdown",
   "metadata": {
    "slideshow": {
     "slide_type": "slide"
    }
   },
   "source": [
    "<div class=\"alert alert-block alert-info\" style=\"color:#4195A4;background-color: white; border: 2px solid; padding: 10px\">\n",
    "    <b><i class=\"fa fa-info-circle\" aria-hidden=\"true\"></i>&nbsp; Info</b><br>\n",
    "    <p style=\"color:black\">An important measurement of the appropriateness of the alignment is the <b>e-value</b>. The e-value or <em>expect value</em> is the probability of observing such results by chance. For instance, if you compare two identical sequences using BLAST/DIAMOND, it will return a value near 0. This happens because having two identical sequences (without knowing they are the same) is quite improbable. Thus, a lower e-value indicates a better quality in the search/alignment/comparison.</p></div>"
   ]
  },
  {
   "cell_type": "markdown",
   "metadata": {
    "slideshow": {
     "slide_type": "slide"
    }
   },
   "source": [
    "## 2.5 Visualization"
   ]
  },
  {
   "cell_type": "markdown",
   "metadata": {
    "slideshow": {
     "slide_type": "slide"
    }
   },
   "source": [
    "### Krona\n",
    "Now that we have our assembled scaffolds which are annotated by DIAMOND, it is possible to have an overall quantitative visualization that will help us to better understand the composition of the sample. <a href=\"https://github.com/marbl/Krona/wiki\" target=\"_blank\">KronaTools</a> is a very nice tool to do this as it allows hierarchical data to be explored with zooming, multi-layered pie charts. \n",
    "<br>  \n",
    "**KronaTools will classify each scaffold as an OTU** (operational taxonomic unit), based on the lowest common ancestor of the 25 best DIAMOND hits (see [above](#2.4.1-DIAMOND)). Next, it will bundle the scaffolds that belong to the same OTU (eg. same virus, bacteria, eukaryote) and display this OTU's taxonomic ranks (kingdom, phylum, class, order, family, genus, species) in a pie chart."
   ]
  },
  {
   "attachments": {
    "Schermafbeelding%202021-02-17%20om%2020.30.45.png": {
     "image/png": "[encoded data removed]"
    }
   },
   "cell_type": "markdown",
   "metadata": {
    "slideshow": {
     "slide_type": "slide"
    }
   },
   "source": [
    "**Taxonomic ranks:**\n",
    "![Schermafbeelding%202021-02-17%20om%2020.30.45.png](attachment:Schermafbeelding%202021-02-17%20om%2020.30.45.png)"
   ]
  },
  {
   "cell_type": "markdown",
   "metadata": {
    "slideshow": {
     "slide_type": "slide"
    }
   },
   "source": [
    "#### 2.5.1 Mapping with BWA\n",
    "In order to also let Krona show the abundance of an OTU in our sample, we have to **summarize how many reads map back to our assembled scaffolds**. We will do this with `bwa-mem2` which is, just like [bowtie2](#Bowtie), a read mapper. Both do the same job, but in general we can say that `bwa-mem2` is faster."
   ]
  },
  {
   "cell_type": "markdown",
   "metadata": {
    "slideshow": {
     "slide_type": "slide"
    }
   },
   "source": [
    "1. The first step is to **index our scaffolds**. Indexing helps the mapping algorithms to work faster. It is like creating a dictionary of where in the 'genome' to find a particular sequence."
   ]
  },
  {
   "cell_type": "code",
   "execution_count": null,
   "metadata": {},
   "outputs": [],
   "source": [
    "cd ~/data/meta_tutorial/ASSEMBLY\n",
    "bwa-mem2 index metatoy.scaffolds.fasta"
   ]
  },
  {
   "cell_type": "markdown",
   "metadata": {
    "slideshow": {
     "slide_type": "slide"
    }
   },
   "source": [
    "2. Next, we **map the reads back to the scaffolds** and make a sorted BAM file with the paired and unpaired reads. Finally, we can merge two sorted BAM files into one which will contain all results of the mapping."
   ]
  },
  {
   "cell_type": "code",
   "execution_count": null,
   "metadata": {},
   "outputs": [],
   "source": [
    "bwa-mem2 mem metatoy.scaffolds.fasta ../READ/TRIMMED/metatoy.NCout.R1.fastq.gz ../READ/TRIMMED/metatoy.NCout.R2.fastq.gz -t 32 | samtools view -Su - | samtools sort - -o metatoy.R.sort.bam\n",
    "bwa-mem2 mem metatoy.scaffolds.fasta ../READ/TRIMMED/metatoy.NCout.unpaired.fastq.gz -t 32 | samtools view -Su - | samtools sort - -o metatoy.un.sort.bam\n",
    "samtools merge -f metatoy.bam metatoy.R.sort.bam metatoy.un.sort.bam\n",
    "rm metatoy.R.sort.bam\n",
    "rm metatoy.un.sort.bam"
   ]
  },
  {
   "cell_type": "markdown",
   "metadata": {
    "slideshow": {
     "slide_type": "slide"
    }
   },
   "source": [
    "3. We index our BAM file and **report the summary statistics** with `samtools idxstats`. The output is tab-delimited with each line consisting of <i>the sequence name, sequence length, # mapped read-segments and # unmapped read-segments</i>. We subsequently cut the first and third column (sequence name and # mapped reads) from this output and paste it into a **'magnitudes' file**. This file thus contains for each scaffold how many reads map to it. \n",
    "\n",
    "<div class=\"alert alert-block alert-info\" style=\"color:#4195A4;background-color: white; border: 2px solid; padding: 10px;display:inline-block\">\n",
    "    <b><i class=\"fa fa-info-circle\" aria-hidden=\"true\"></i>&nbsp; Info</b><br>\n",
    "    <p style=\"color:black\">Note: <code>samtools</code> may count reads multiple times if they are mapped more than once or in multiple fragments.</p></div>"
   ]
  },
  {
   "cell_type": "code",
   "execution_count": null,
   "metadata": {},
   "outputs": [],
   "source": [
    "samtools index metatoy.bam\n",
    "samtools idxstats metatoy.bam | cut -f1,3 > metatoy.magnitudes\n",
    "cp metatoy.magnitudes ../DIAMOND"
   ]
  },
  {
   "cell_type": "markdown",
   "metadata": {
    "slideshow": {
     "slide_type": "slide"
    }
   },
   "source": [
    "#### 2.5.2 Visualization with Krona\n",
    "We installed KronaTools and symlinked the necessary databases in [Part 1](#Part-1:-Preparation) of this tutorial. We can now use it to build a pie chart which will contain information such as: \n",
    "* the classification of each scaffold bundled in an OTU\n",
    "* OTU abundance in the sample, \n",
    "* average log<sub>10</sub> e-value for each OTU, \n",
    "* links to the <a href=\"https://www.ncbi.nlm.nih.gov/taxonomy\" target=\"_blank\">Taxonomy browser</a>, \n",
    "* etc.\n",
    "\n",
    "The input we have to give `ktImportBLAST` is our `m8` file with the output of DIAMOND and optionally our magnitudes file. The command is build like this:<br>\n",
    "<code class=\"lang-bash\" style=\"background-color:#EEEEEE\">ktImportBLAST -o <span class=\"hljs-attribute\">&lt;output&gt;</span> <span class=\"hljs-attribute\">&lt;blast_output_1(m8)&gt;</span>:<span class=\"hljs-attribute\">&lt;magnitudes_file_1,&lt;name_in_kronachart1&gt;</span> <span class=\"hljs-attribute\">&lt;blast_output_2(m8)&gt;</span>:<span class=\"hljs-attribute\">&lt;magnitudes_file_2,&lt;name_in_kronachart2&gt;</span> ...</code>"
   ]
  },
  {
   "cell_type": "markdown",
   "metadata": {
    "slideshow": {
     "slide_type": "slide"
    }
   },
   "source": [
    "Thus, following command will give us two pie charts in the same html output:"
   ]
  },
  {
   "cell_type": "code",
   "execution_count": null,
   "metadata": {},
   "outputs": [],
   "source": [
    "cd ~/data/meta_tutorial/DIAMOND\n",
    "ktImportBLAST -o metatoy.html metatoy.m8,metatoy metatoy.m8:metatoy.magnitudes,metatoy.magn"
   ]
  },
  {
   "cell_type": "markdown",
   "metadata": {},
   "source": [
    "1. `metatoy.m8,metatoy`: A pie chart of OTU's without taking into account the magnitudes\n",
    "2. `metatoy.m8:metatoy.magnitudes,metatoy.magn`: Pie chart which proportionally shows how many reads map back to each OTU"
   ]
  },
  {
   "cell_type": "markdown",
   "metadata": {
    "slideshow": {
     "slide_type": "slide"
    }
   },
   "source": [
    "You can now <b>transfer the HTML file to your local computer</b> with Filezilla and have a look at it.<br>\n",
    "**Example:**\n",
    "<div>\n",
    "<center><img src=\"https://github.com/Matthijnssenslab/tutorial_images/blob/main/krona.png?raw=true\" height=\"80%\" width=\"80%\"></center>\n",
    "</div>"
   ]
  },
  {
   "cell_type": "markdown",
   "metadata": {
    "slideshow": {
     "slide_type": "slide"
    }
   },
   "source": [
    "#### 2.5.3 Output classification\n",
    "We can output the classification of each scaffold into a file with `ktClassifyBLAST` of the KronaTools package. Together with the magnitudes, this will allows later on to make abundance and taxonomy tables for further analysis.\n",
    "\n",
    "The next command will output a tab-delimited file with the scaffold name, taxid and the e-value:"
   ]
  },
  {
   "cell_type": "code",
   "execution_count": null,
   "metadata": {},
   "outputs": [],
   "source": [
    "ktClassifyBLAST metatoy.m8 -o metatoy.tab"
   ]
  },
  {
   "cell_type": "markdown",
   "metadata": {
    "slideshow": {
     "slide_type": "slide"
    }
   },
   "source": [
    "With some `awk` ✨<span style=\"font-weight:bold;color:#ff00ff\">m</span><span style=\"font-weight:bold;color:#ff0000\">a</span><span style=\"font-weight:bold;color:#ff6600\">g</span><span style=\"font-weight:bold;color:#ff9900\">i</span><span style=\"font-weight:bold;color:#ffcc00\">c</span>✨, we can print the magnitudes for each scaffold to the '.tab' file containing the classification."
   ]
  },
  {
   "cell_type": "code",
   "execution_count": null,
   "metadata": {},
   "outputs": [],
   "source": [
    "awk 'NR==FNR { a[$1]=$2; next} $1 in a {print $0,\"\\t\"a[$1]}' metatoy.magnitudes metatoy.tab > metatoy.magnitudes.tab"
   ]
  },
  {
   "cell_type": "markdown",
   "metadata": {
    "slideshow": {
     "slide_type": "slide"
    }
   },
   "source": [
    "<div class=\"alert alert-block alert-info\" style=\"color:#4195A4;background-color: white; border: 2px solid; padding: 10px\">\n",
    "    <b><i class=\"fa fa-info-circle\"  aria-hidden=\"true\"></i>&nbsp; Explanation attempt of the <code>awk</code> line</b><br>\n",
    "    <p style=\"color: black\"><br>\n",
    "By default, <code>awk</code> considers a field to be a string of characters surrounded by whitespace, the start of a line or the end of a line. Fields are identified by a dollar sign (&#36;) and a number. So, <code>&#36;1</code> represents the first field of a file, <code>&#36;2</code> the second field and so on.. <code>&#36;0</code> represents the whole line.</p>\n",
    "\n",
    "<ol style=\"color: black\">\n",
    "    <li><code>awk 'NR == FNR { #some actions; next} #other condition {#other actions}' file1.txt file2.txt</code><br>\n",
    "When processing more than one file, awk reads each file sequentially, one after another, in the order they are specified on the command line. The special variable <code>NR</code> stores the total number of input records read so far, regardless of how many files have been read. The value of NR starts at 1 and always increases until the program terminates. Another variable, <code>FNR</code>, stores the number of records read <i>from the current file being processed</i>. The value of FNR starts at 1, increases until the end of the current file is reached, then is set again to 1 as soon as the first line of the next file is read, and so on. So, the condition <code>NR == FNR</code> is only true while awk is reading the first file. Thus, in the program above, the actions indicated by <code>#some actions</code> are executed when awk is reading the first file; the actions indicated by <code>#other actions</code> are executed when awk is reading the second file, if the condition in <code>#other condition</code> is met. The <code>next</code> at the end of the first action block is needed to prevent the condition in <code>#other condition</code> from being evaluated, and the actions in <code>#other actions</code> from being executed, while awk is reading the first file. <br>\n",
    "A nice visualization of <code>NR==FNR</code> is given <a target=\"_blank\" href=\"https://www.unix.com/shell-programming-and-scripting/197115-nr-fnr-confusions.html\">here</a>. \n",
    "<br>\n",
    "<br>\n",
    "    So <code>NR==FNR {..}</code> means: while the <b>total record number</b> (NR) is equal to the <b>file record number</b> (FNR of file1), do the following <code>{..}</code><br>\n",
    "When NR is not equal anymore to FNR this means that we started to read input from file2, which is what we want to avoid. </li>\n",
    "<br>\n",
    "    <li><code>a[&#36;1]</code> reads in the first field of file1 and indexes it in array <code>a</code>. With <code>=&#36;2</code> the values of the second field of file1 are assigned to this index</li><br>\n",
    "    <li>Next, when the condition <code>&#36;1 in a</code> is true (when the same value/string is present in field 1 of file2 and in array a): do <code>{print &#36;0,\"\\t\"a[&#36;1]}</code> which prints the whole line of file2 plus a delimiter tab prior to the value assigned to the index in a. </li>\n",
    "</ol>\n",
    "<p style=\"color: black\">\n",
    "    In our program this means:</p>\n",
    "    <ul style=\"color: black\">\n",
    "    <li><code>{ a[&#36;1]=&#36;2; next}</code>: The names of our scaffolds are the first field in <code>metatoy.magnitudes</code> file and the magnitudes (second column in this file) are assigned to them.</li>\n",
    "    <li><code>&#36;1 in a {print &#36;0,\"\\t\"a[&#36;1]}</code>: When the name of the scaffold is both present in array <code>a</code> and in the <code>ktClassifyBLAST</code> output file (metatoy.tab), print the whole line of this second file and append the magnitudes at the end, preceded by a delimiter tab.</li>\n",
    "    <li>Store this in a new <code>metatoy.magnitudes.tab</code> file</li>\n",
    "    </ul>\n",
    "</div>"
   ]
  },
  {
   "cell_type": "markdown",
   "metadata": {
    "slideshow": {
     "slide_type": "slide"
    }
   },
   "source": [
    "<center><img src=\"https://i.imgflip.com/1vw04r.jpg\" /></center>"
   ]
  },
  {
   "cell_type": "markdown",
   "metadata": {
    "slideshow": {
     "slide_type": "slide"
    }
   },
   "source": [
    "---\n",
    "<div class=\"alert alert-block\" style=\"color:purple;background-color: white; border: 2px solid; padding: 10px\">\n",
    "    <b><i class=\"fa fa-pencil\"></i>&nbsp; Exercise</b><br>\n",
    "<div style=\"color:black\">\n",
    "    <a id=\"part-3-exercise-\" style=\"text-decoration:none;color:black;cursor:default\"><h2 id=\"part-3-exercise-\">Part 3: Exercise!</h2></a>\n",
    "<p>Ask your supervisor for some samples and try to assemble the reads, annotate the scaffolds and make a Krona chart yourself!<br></p>\n",
    "<p>Remember all steps:</p>\n",
    "<ol>\n",
    "<li>Trimming and QC</li>\n",
    "<li>Decontamination (you will have to assemble the negative controls and index them with <code>bowtie2-build</code>)</li>\n",
    "<li>Assembly</li>\n",
    "<li>Annotation</li>\n",
    "<li>Krona visualization</li>\n",
    "</ol></div></div>\n"
   ]
  }
 ],
 "metadata": {
  "celltoolbar": "Diavoorstelling",
  "kernelspec": {
   "display_name": "Bash",
   "language": "bash",
   "name": "bash"
  },
  "language_info": {
   "codemirror_mode": "shell",
   "file_extension": ".sh",
   "mimetype": "text/x-sh",
   "name": "bash"
  },
  "rise": {
   "auto_select": "none",
   "enable_chalkboard": true,
   "scroll": true,
   "transition": "none"
  },
  "toc-autonumbering": false,
  "toc-showcode": false,
  "toc-showmarkdowntxt": false,
  "toc-showtags": false
 },
 "nbformat": 4,
 "nbformat_minor": 4
}
