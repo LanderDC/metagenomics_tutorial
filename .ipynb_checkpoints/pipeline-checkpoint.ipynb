{
 "cells": [
  {
   "cell_type": "markdown",
   "metadata": {},
   "source": [
    "# JM-lab virome pipeline: tutorial\n",
    "This jupyter notebook gives an overview of the commands needed for the primary analysis of raw NGS data with explanations. This is intended as a learning tool for new PhD-students, master students, interns, etc. "
   ]
  },
  {
   "cell_type": "markdown",
   "metadata": {},
   "source": [
    "**Submitting jobs to the HPC, see _JM lab HPC notebook_**"
   ]
  },
  {
   "cell_type": "markdown",
   "metadata": {},
   "source": [
    "```bash\n",
    "ls | cut -f1 -d '_'| sort -u > names.txt\n",
    "while read line;do cat ${line}_*_*_R1_*.fastq.gz > $line.R1.fastq.gz;done < names.txt\n",
    "while read line;do cat ${line}_*_*_R2_*.fastq.gz > $line.R2.fastq.gz;done < names.txt\n",
    "rm *L00*\n",
    "``` "
   ]
  },
  {
   "cell_type": "markdown",
   "metadata": {},
   "source": [
    "### Logging in to teaching server\n",
    "For this this tutorial we can work on the teaching server of gbiomed (bmw.gbiomed.kuleuven.be). Everyone with a u- or r-number can connect to this server by ssh-ing to *__'your_r/u-number'@bmw.gbiomed.kuleuven.be__* and giving your intranet password.\n",
    "\n",
    "Perform following actions in the terminal."
   ]
  },
  {
   "cell_type": "code",
   "execution_count": null,
   "metadata": {},
   "outputs": [],
   "source": [
    "ssh 'your_r/u-number'@bmw.gbiomed.kuleuven.be"
   ]
  },
  {
   "cell_type": "markdown",
   "metadata": {},
   "source": [
    "Next you should give your password connected to your KU Leuven account."
   ]
  },
  {
   "cell_type": "markdown",
   "metadata": {},
   "source": [
    "## Installing all necessary software\n",
    "\n",
    "### Miniconda\n",
    "Miniconda is a package manager from which you can install a lot of (bioinformatics) software. link\n",
    "1. Create in your datafolder a new directory and move into that directory:"
   ]
  },
  {
   "cell_type": "code",
   "execution_count": null,
   "metadata": {},
   "outputs": [],
   "source": [
    "cd ~/data\n",
    "mkdir software\n",
    "cd software\n",
    "pwd"
   ]
  },
  {
   "cell_type": "markdown",
   "metadata": {},
   "source": [
    "2. Download the Miniconda installer with `wget`. Next, run the installation script (`-b` makes the installation run silent and `-p` provides the path where to install Miniconda). When Miniconda is installed, activate the tool by sourcing the initialization script, this simply sets a couple of shell environment variables, and conda command as a shell function. More information: https://docs.conda.io/projects/conda/en/latest/user-guide/install/index.html"
   ]
  },
  {
   "cell_type": "code",
   "execution_count": null,
   "metadata": {},
   "outputs": [],
   "source": [
    "wget https://repo.anaconda.com/miniconda/Miniconda3-latest-Linux-x86_64.sh\n",
    "bash Miniconda3-latest-Linux-x86_64.sh -b -p /home/luna.kuleuven.be/'your_u-number'/data/software/miniconda\n",
    "source /home/luna.kuleuven.be/'your_u-number'/data/software/miniconda/bin/activate\n",
    "conda init"
   ]
  },
  {
   "cell_type": "markdown",
   "metadata": {},
   "source": [
    "3. When installing new software with conda the best practice is to create a new conda environment for each part of a project your working on, for example:\n",
    "\n",
    "In this tutorial we will run the virome pipeline, so we will create a conda environment with all software we need to run the pipeline, installed in this environment. Then we need to activate this environment to make the software available for use.\n"
   ]
  },
  {
   "cell_type": "code",
   "execution_count": null,
   "metadata": {},
   "outputs": [],
   "source": [
    "conda create -y --name virome_pipeline python\n",
    "conda activate virome_pipeline\n",
    "conda install -y -c bioconda krona samtools bwa-mem2 bowtie2 spades trimmomatic bedtools"
   ]
  },
  {
   "cell_type": "markdown",
   "metadata": {},
   "source": [
    "### From another source\n",
    "Next to Anaconda/Miniconda their are a lot of other possibilities to install software (`pip`, building from source, installing binaries, cloning from github, etc.)\n",
    "\n",
    "As the newest version of Diamond is not available through conda, we can install it from github by following the instructions (link)."
   ]
  },
  {
   "cell_type": "code",
   "execution_count": null,
   "metadata": {},
   "outputs": [],
   "source": [
    "wget diamond link\n",
    "tar -xvzf diamond tarball"
   ]
  },
  {
   "cell_type": "markdown",
   "metadata": {},
   "source": [
    "Now we still need to put the diamond executable in our `$PATH` so we can call it on the command line from everywhere in the terminal. This can be done by making a `bin` subdirectory in our `software` directory, next creating a symlink from the diamond executable to this bin directory and finally export `bin` to our `$PATH` by adding it to the `.bashrc` file."
   ]
  },
  {
   "cell_type": "code",
   "execution_count": null,
   "metadata": {},
   "outputs": [],
   "source": [
    "cd ~/data/software/\n",
    "mkdir bin\n",
    "cd bin/\n",
    "ln -s <path_to_diamond_executable> ."
   ]
  },
  {
   "cell_type": "markdown",
   "metadata": {},
   "source": [
    "Next, open the `.bashrc` file with `nano` and add following line to the bottom of the file:\n",
    "```bash\n",
    "export PATH='$PATH:~/data/software/bin'\n",
    "```\n",
    "When you `source` your `.bashrc` file, you should now be able to call diamond from everywhere."
   ]
  },
  {
   "cell_type": "code",
   "execution_count": null,
   "metadata": {},
   "outputs": [],
   "source": [
    "source ~/.bashrc"
   ]
  },
  {
   "cell_type": "markdown",
   "metadata": {},
   "source": []
  }
 ],
 "metadata": {
  "kernelspec": {
   "display_name": "Bash",
   "language": "bash",
   "name": "bash"
  },
  "language_info": {
   "codemirror_mode": "shell",
   "file_extension": ".sh",
   "mimetype": "text/x-sh",
   "name": "bash"
  }
 },
 "nbformat": 4,
 "nbformat_minor": 4
}
