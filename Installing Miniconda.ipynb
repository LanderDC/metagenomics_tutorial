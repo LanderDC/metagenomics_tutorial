{
 "cells": [
  {
   "cell_type": "markdown",
   "id": "d9ef7026",
   "metadata": {},
   "source": [
    "# Installing Miniconda\n",
    "**Miniconda** is a package manager from which you can install a lot of (bioinformatics) software. More info on conda can be found <a href=\"https://docs.conda.io/projects/conda/en/latest/\" target=\"_blank\">here</a>.\n",
    "\n",
    "1. Create in your datafolder a new `software` directory and move into that directory:"
   ]
  },
  {
   "cell_type": "code",
   "execution_count": null,
   "id": "a65c6b0b",
   "metadata": {},
   "outputs": [],
   "source": [
    "cd $VSC_DATA\n",
    "mkdir software\n",
    "cd software"
   ]
  },
  {
   "cell_type": "markdown",
   "id": "298ceb0f",
   "metadata": {},
   "source": [
    "2. Download the Miniconda installer with `wget`. Next, run the installation script (see command-line options below). When Miniconda is installed, activate conda by sourcing the initialization script, this simply sets a couple of shell environment variables, and `conda` command as a shell function. More information in the <a href=\"https://docs.conda.io/projects/conda/en/latest/user-guide/install/index.html\" target=\"_blank\">installer guidelines</a>."
   ]
  },
  {
   "cell_type": "code",
   "execution_count": null,
   "id": "63c5a06c",
   "metadata": {
    "scrolled": true
   },
   "outputs": [],
   "source": [
    "wget https://repo.anaconda.com/miniconda/Miniconda3-latest-Linux-x86_64.sh\n",
    "\n",
    "bash Miniconda3-latest-Linux-x86_64.sh -b -p $VSC_DATA/software/miniconda"
   ]
  },
  {
   "cell_type": "markdown",
   "id": "75a2dd0f",
   "metadata": {},
   "source": [
    "<div class=\"alert alert-block dark-alert\" style=\"background-color: white; border: 2px solid; padding: 15px;display:inline-block\">\n",
    "    <b><i class=\"fas fa-laptop\"></i>&nbsp; Command-line options</b><br>\n",
    "<ul style=\"color:black\">\n",
    "    <li><code>-b</code> makes the installation run silent</li>\n",
    "    <li><code>-p</code> provides the path where to install Miniconda</li>\n",
    "    </ul></div>"
   ]
  },
  {
   "cell_type": "code",
   "execution_count": null,
   "id": "77bf5ed1",
   "metadata": {
    "scrolled": true
   },
   "outputs": [],
   "source": [
    "source $VSC_DATA/software/miniconda/bin/activate\n",
    "conda init\n",
    "source ~/.bashrc"
   ]
  }
 ],
 "metadata": {
  "kernelspec": {
   "display_name": "Bash",
   "language": "bash",
   "name": "bash"
  },
  "language_info": {
   "codemirror_mode": "shell",
   "file_extension": ".sh",
   "mimetype": "text/x-sh",
   "name": "bash"
  }
 },
 "nbformat": 4,
 "nbformat_minor": 5
}
