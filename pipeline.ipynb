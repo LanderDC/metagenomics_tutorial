{
 "cells": [
  {
   "cell_type": "markdown",
   "metadata": {},
   "source": [
    "<img align=\"right\" src=\"https://rega.kuleuven.be/cev/viralmetagenomics/pictures/lovm/image_preview\" height=\"10%\" width=\"10%\" />\n",
    "\n",
    "# JM-lab virome pipeline: tutorial\n",
    "This jupyter notebook gives an overview of the commands needed for the primary analysis of raw NGS data with explanations. This is intended as a learning tool for new PhD-students, master students, interns, etc. and basic command-line knowledge is required to follow.\n",
    "\n",
    "---\n",
    "## **Part 1**\n",
    "### 1.1 Logging into the teaching server\n",
    "For this tutorial we can work on the teaching server of gbiomed (bmw.gbiomed.kuleuven.be). Everyone with a u- or r-number from KU Leuven can connect to this remote server by using `ssh` ([more info](https://searchsecurity.techtarget.com/definition/Secure-Shell)) with <i> u/rXXXXXXX@bmw.gbiomed.kuleuven.be </i> and giving your KU Leuven intranet password.\n",
    "\n",
    "**Perform following actions in a terminal (command-line interface):**\n",
    "\n",
    "<span style=\"color:red\">Replace uXXXXXXX with your u- or r-number. </span>\n",
    "```bash\n",
    "ssh u/rXXXXXXX@bmw.gbiomed.kuleuven.be\n",
    "```\n",
    "\n",
    "Next, you should give your password connected to your KU Leuven account and you're in!\n",
    "\n",
    "<b><span style=\"color:red\"> Important:</span> Always avoid working in your `home` directory as this has limited storage and will cause trouble when it's full!</b> Therefore, on the teaching server, work in the `data` directory, which is a symbolic link to `/mnt/storage/uXXXXXXX` and has enough space.\n",
    "\n",
    "### 1.2 Installing all necessary software\n",
    "#### 1.2.1 Miniconda\n",
    "(Mini)conda is a package manager from which you can install a lot of (bioinformatics) software. More info on conda can be found [here](https://docs.conda.io/projects/conda/en/latest/).\n",
    "\n",
    "**Perform following steps to install all software we will need along the pipeline:**\n",
    "1. Create in your datafolder a new `software` directory and move into that directory:"
   ]
  },
  {
   "cell_type": "code",
   "execution_count": 1,
   "metadata": {},
   "outputs": [
    {
     "name": "stdout",
     "output_type": "stream",
     "text": [
      "bash: cd: /Users/lander/data: No such file or directory\n",
      "/Users/lander/Documenten/Doctoraat/Metagenomic tutorial/software\n"
     ]
    }
   ],
   "source": [
    "cd ~/data\n",
    "mkdir software\n",
    "cd software\n",
    "pwd"
   ]
  },
  {
   "cell_type": "markdown",
   "metadata": {},
   "source": [
    "2. Download the Miniconda installer with `wget`. Next, run the installation script (`-b` makes the installation run silent and `-p` provides the path where to install Miniconda). When Miniconda is installed, activate conda by sourcing the initialization script, this simply sets a couple of shell environment variables, and `conda` command as a shell function. More information in the [installer guidelines](https://docs.conda.io/projects/conda/en/latest/user-guide/install/index.html)."
   ]
  },
  {
   "cell_type": "code",
   "execution_count": 2,
   "metadata": {
    "scrolled": true
   },
   "outputs": [
    {
     "name": "stdout",
     "output_type": "stream",
     "text": [
      "bash: wget: command not found\n",
      "bash: Miniconda3-latest-Linux-x86_64.sh: No such file or directory\n",
      "bash: /Users/lander/data/software/miniconda/bin/activate: No such file or directory\n",
      "no change     /Users/lander/.miniconda/miniconda3/condabin/conda\n",
      "no change     /Users/lander/.miniconda/miniconda3/bin/conda\n",
      "no change     /Users/lander/.miniconda/miniconda3/bin/conda-env\n",
      "no change     /Users/lander/.miniconda/miniconda3/bin/activate\n",
      "no change     /Users/lander/.miniconda/miniconda3/bin/deactivate\n",
      "no change     /Users/lander/.miniconda/miniconda3/etc/profile.d/conda.sh\n",
      "no change     /Users/lander/.miniconda/miniconda3/etc/fish/conf.d/conda.fish\n",
      "no change     /Users/lander/.miniconda/miniconda3/shell/condabin/Conda.psm1\n",
      "modified      /Users/lander/.miniconda/miniconda3/shell/condabin/conda-hook.ps1\n",
      "no change     /Users/lander/.miniconda/miniconda3/lib/python3.8/site-packages/xontrib/conda.xsh\n",
      "no change     /Users/lander/.miniconda/miniconda3/etc/profile.d/conda.csh\n",
      "no change     /Users/lander/.bash_profile\n",
      "\n",
      "==> For changes to take effect, close and re-open your current shell. <==\n",
      "\n",
      "bash: /Users/lander/.bashrc: No such file or directory\n"
     ]
    },
    {
     "ename": "",
     "evalue": "1",
     "output_type": "error",
     "traceback": []
    }
   ],
   "source": [
    "wget https://repo.anaconda.com/miniconda/Miniconda3-latest-Linux-x86_64.sh\n",
    "bash Miniconda3-latest-Linux-x86_64.sh -b -p $HOME/data/software/miniconda\n",
    "source $HOME/data/software/miniconda/bin/activate\n",
    "conda init\n",
    "source ~/.bashrc"
   ]
  },
  {
   "cell_type": "markdown",
   "metadata": {},
   "source": [
    "*Notice that* `$HOME` *and* `~/` *both point to your `home` directory.*"
   ]
  },
  {
   "cell_type": "markdown",
   "metadata": {},
   "source": [
    "3. When installing new software with conda, the best practice is to create a new conda environment for each project you are working on, for example:\n",
    "\n",
    "In this tutorial we will run the virome pipeline, so we will create a conda environment with all software we need to run the pipeline installed in this environment. Then we need to activate this environment to make the software available for use.\n"
   ]
  },
  {
   "cell_type": "code",
   "execution_count": null,
   "metadata": {},
   "outputs": [],
   "source": [
    "conda create -y --name virome_pipeline python\n",
    "conda activate virome_pipeline\n",
    "conda install -y -c bioconda krona samtools bwa-mem2 bowtie2 spades trimmomatic bedtools"
   ]
  },
  {
   "cell_type": "markdown",
   "metadata": {},
   "source": [
    "##### Downloading taxonomy database for Krona\n",
    "Krona is installed but we still need to run `ktUpdateTaxonomy.sh` to download the taxonomy database, see message below:\n",
    "\n",
    "```console\n",
    "Krona installed.  You still need to manually update the taxonomy databases before Krona can generate taxonomic reports. The update script is ktUpdateTaxonomy.sh. \n",
    "The default location for storing taxonomic databases is /home/luna.kuleuven.be/u0140985/data/software/miniconda/envs/virome_pipeline/opt/krona/taxonomy\n",
    "\n",
    "If you would like the taxonomic data stored elsewhere, simply replace\n",
    "this directory with a symlink.  For example:\n",
    "```\n",
    "```bash\n",
    "rm -rf /home/luna.kuleuven.be/u0140985/data/software/miniconda/envs/virome_pipeline/opt/krona/taxonomy\n",
    "mkdir /path/on/big/disk/taxonomy\n",
    "ln -s /path/on/big/disk/taxonomy /home/luna.kuleuven.be/u0140985/data/software/miniconda/envs/virome_pipeline/opt/krona/taxonomy\n",
    "ktUpdateTaxonomy.sh\n",
    "```"
   ]
  },
  {
   "cell_type": "code",
   "execution_count": null,
   "metadata": {},
   "outputs": [],
   "source": [
    "ktUpdateTaxonomy.sh"
   ]
  },
  {
   "cell_type": "markdown",
   "metadata": {},
   "source": [
    "#### 1.2.2 From another source\n",
    "\n",
    "The bioconda installation will always lag a few versions behind the most current release. If you really want the most recent, then you'll need to manually install the software and its dependencies.\n",
    "\n",
    "Next to Anaconda/Miniconda their are a lot of other possibilities to install software (`pip`, building from source, installing binaries, cloning from github, etc.)\n",
    "\n",
    "As the latest version of [Diamond](https://github.com/bbuchfink/diamond) (a sequence aligner for protein and translated DNA searches) is not available through `conda`, we can install it from github by following the [installation instructions](https://github.com/bbuchfink/diamond/wiki)."
   ]
  },
  {
   "cell_type": "code",
   "execution_count": null,
   "metadata": {
    "scrolled": true
   },
   "outputs": [],
   "source": [
    "cd ~/data/software/\n",
    "mkdir diamond\n",
    "cd diamond\n",
    "wget http://github.com/bbuchfink/diamond/releases/download/v2.0.6/diamond-linux64.tar.gz\n",
    "tar -xzf diamond-linux64.tar.gz"
   ]
  },
  {
   "cell_type": "markdown",
   "metadata": {},
   "source": [
    "Now we still need to put the diamond executable in our `PATH` variable so we can call the `diamond` function from everywhere in the command line. This can be done by making a `bin` subdirectory in `~/data/software/`, followed by creating a symlink from the `diamond` executable to this bin directory and finally export `bin` to our `$PATH` by adding it to your `.profile` or `.bash_profile` file."
   ]
  },
  {
   "cell_type": "code",
   "execution_count": null,
   "metadata": {},
   "outputs": [],
   "source": [
    "cd ~/data/software\n",
    "mkdir bin\n",
    "cd bin/\n",
    "ln -s ~/data/software/diamond/diamond ."
   ]
  },
  {
   "cell_type": "markdown",
   "metadata": {},
   "source": [
    "Next, open the `.profile` file with `nano` and add following line to the bottom of the file:\n",
    "```bash\n",
    "PATH=\"~/data/software/bin:$PATH\"\n",
    "```\n",
    "More documentation on where and how to set the `PATH` variable in these two topics: \n",
    "* https://superuser.com/questions/183870/difference-between-bashrc-and-bash-profile/183980#183980 \n",
    "* https://unix.stackexchange.com/questions/26047/how-to-correctly-add-a-path-to-path\n",
    "\n",
    "\n",
    "When you `source` your `.profile` file, you should now be able to call diamond.\n",
    "```bash\n",
    "source ~/.profile\n",
    "```"
   ]
  },
  {
   "cell_type": "code",
   "execution_count": null,
   "metadata": {
    "scrolled": true
   },
   "outputs": [],
   "source": [
    "diamond help"
   ]
  },
  {
   "cell_type": "markdown",
   "metadata": {},
   "source": [
    "---\n",
    "## **Part 2: Start pipeline**"
   ]
  },
  {
   "cell_type": "markdown",
   "metadata": {},
   "source": [
    "```bash\n",
    "ls | cut -f1 -d '_'| sort -u > names.txt\n",
    "while read line; do cat ${line}_*_*_R1_*.fastq.gz > $line.R1.fastq.gz; done < names.txt\n",
    "while read line; do cat ${line}_*_*_R2_*.fastq.gz > $line.R2.fastq.gz; done < names.txt\n",
    "rm *L00*```\n"
   ]
  }
 ],
 "metadata": {
  "kernelspec": {
   "display_name": "Bash",
   "language": "bash",
   "name": "bash"
  },
  "language_info": {
   "codemirror_mode": "shell",
   "file_extension": ".sh",
   "mimetype": "text/x-sh",
   "name": "bash"
  }
 },
 "nbformat": 4,
 "nbformat_minor": 4
}
