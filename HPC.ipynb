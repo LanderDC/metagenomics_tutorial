{
 "cells": [
  {
   "cell_type": "markdown",
   "metadata": {},
   "source": [
    "# JM lab HPC\n",
    "This jupyter notebook explains how to use the High Performance Cluster (HPC).\n",
    "\n",
    "## HPC\n",
    "The Flemish Supercomputing Centre (VSC; Vlaams Supercomputer centrum) provides high-performance computing to researchers. An account has to be requested"
   ]
  },
  {
   "cell_type": "markdown",
   "metadata": {},
   "source": [
    "### Submitting a job to the HPC\n",
    "There are several options to submit a job to the High Performance Cluster.\n",
    "* **Normal job:**\n",
    "    \n",
    "* **Interactive:**\n",
    "    `qsub -I -l nodes=1:ppn=20,walltime=12:00:00 -A lp_jm_virome_group`\n",
    "    "
   ]
  },
  {
   "cell_type": "markdown",
   "metadata": {},
   "source": []
  }
 ],
 "metadata": {
  "kernelspec": {
   "display_name": "Bash",
   "language": "bash",
   "name": "bash"
  },
  "language_info": {
   "codemirror_mode": "shell",
   "file_extension": ".sh",
   "mimetype": "text/x-sh",
   "name": "bash"
  }
 },
 "nbformat": 4,
 "nbformat_minor": 4
}
