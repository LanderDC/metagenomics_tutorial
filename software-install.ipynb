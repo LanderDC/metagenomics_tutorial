{
 "cells": [
  {
   "cell_type": "markdown",
   "id": "202c94a0",
   "metadata": {},
   "source": [
    "### 1.3 Installing all necessary software on the remote server\n",
    "#### 1.3.1 Miniconda\n",
    "**Miniconda** is a package manager from which you can install a lot of (bioinformatics) software. More info on conda can be found <a href=\"https://docs.conda.io/projects/conda/en/latest/\" target=\"_blank\">here</a>.\n",
    "\n",
    "##### Installing Miniconda:\n",
    "1. Create in your datafolder a new `software` directory and move into that directory:"
   ]
  },
  {
   "cell_type": "code",
   "execution_count": null,
   "id": "01962987",
   "metadata": {},
   "outputs": [],
   "source": [
    "cd ~/data\n",
    "mkdir software\n",
    "cd software"
   ]
  },
  {
   "cell_type": "markdown",
   "id": "fdbb37ea",
   "metadata": {},
   "source": [
    "2. Download the Miniconda installer with `wget`. Next, run the installation script (see command-line options below). When Miniconda is installed, activate conda by sourcing the initialization script, this simply sets a couple of shell environment variables, and `conda` command as a shell function. More information in the <a href=\"https://docs.conda.io/projects/conda/en/latest/user-guide/install/index.html\" target=\"_blank\">installer guidelines</a>."
   ]
  },
  {
   "cell_type": "code",
   "execution_count": null,
   "id": "1061b9b8",
   "metadata": {
    "scrolled": true
   },
   "outputs": [],
   "source": [
    "wget https://repo.anaconda.com/miniconda/Miniconda3-latest-Linux-x86_64.sh\n",
    "\n",
    "bash Miniconda3-latest-Linux-x86_64.sh -b -p $HOME/data/software/miniconda"
   ]
  },
  {
   "cell_type": "markdown",
   "id": "926ec6e6",
   "metadata": {},
   "source": [
    "<div class=\"alert alert-block dark-alert\" style=\"background-color: white; border: 2px solid; padding: 15px;display:inline-block\">\n",
    "    <b><i class=\"fas fa-laptop\"></i>&nbsp; Command-line options</b><br>\n",
    "<ul style=\"color:black\">\n",
    "    <li><code>-b</code> makes the installation run silent</li>\n",
    "    <li><code>-p</code> provides the path where to install Miniconda</li>\n",
    "    </ul></div>"
   ]
  },
  {
   "cell_type": "code",
   "execution_count": null,
   "id": "60c1ee00",
   "metadata": {
    "scrolled": true
   },
   "outputs": [],
   "source": [
    "source $HOME/data/software/miniconda/bin/activate\n",
    "conda init\n",
    "source ~/.bashrc"
   ]
  },
  {
   "cell_type": "markdown",
   "id": "1d52a87f",
   "metadata": {},
   "source": [
    "<div class=\"alert alert-block alert-info\" style=\"background-color: white; border: 2px solid; padding: 15px;display:inline-block\">\n",
    "    <b><i class=\"fa fa-info-circle\" aria-hidden=\"true\"></i>&nbsp; Info</b><br>\n",
    "    <p style=\"color: black\">\n",
    "Notice that <code>&#36;HOME</code> and <code>~/</code>both point to your <code>home</code> directory.</p></div>"
   ]
  },
  {
   "cell_type": "markdown",
   "id": "c1fb4685",
   "metadata": {},
   "source": [
    "##### Installing software with Miniconda:\n",
    "3. When installing new software with conda, the best practice is to create a new conda environment for each project you are working on, for example:\n",
    "\n",
    "In this tutorial we will run the virome pipeline, so we will create a conda environment with all software we need to run the pipeline installed in this environment. Then we need to activate this environment to make the software available for use.\n"
   ]
  },
  {
   "cell_type": "code",
   "execution_count": null,
   "id": "13bd74ee",
   "metadata": {},
   "outputs": [],
   "source": [
    "conda create -y --name virome_pipeline python=3.8\n",
    "conda activate virome_pipeline\n",
    "conda install -y -c bioconda -c anaconda samtools bwa-mem2 bowtie2 trimmomatic bedtools fastqc pigz seqtk"
   ]
  },
  {
   "cell_type": "markdown",
   "id": "0396c144",
   "metadata": {},
   "source": [
    "<div class=\"alert alert-block dark-alert\" style=\"background-color: white; border: 2px solid; padding: 10px;display:inline-block\">\n",
    "    <b><i class=\"fas fa-laptop\"></i>&nbsp; Command-line options</b><br>\n",
    "    <ul>\n",
    "        <li><code>conda create -y --name virome_pipeline python=3.8</code> creates a\n",
    "            python environment named <em>virome_pipeline</em>, where we will install all software.</li>\n",
    "        <li><code>conda activate virome_pipeline</code> activates this environment (you can see the beginning command-line prompt name change from <code>(base)</code> to <code>(virome_pipeline)</code>.</li>\n",
    "        <li><code>conda install -y -c bioconda -c anaconda ...</code> installs all necessary software from the bioconda and anaconda channels in the activated environment, and solves package dependencies, version incompatibilities, etc. </li>\n",
    "    </ul>\n",
    "    </div>"
   ]
  },
  {
   "cell_type": "markdown",
   "id": "6f5570be",
   "metadata": {},
   "source": [
    "#### 1.3.2 Installing from another source\n",
    "\n",
    "The Miniconda installation will most of the time lag a few versions behind the most current release. If you really want the most recent version of the software, then you'll need to manually install the software and its dependencies.\n",
    "\n",
    "Next to Miniconda their are a lot of other possibilities to install software (`pip`, compiling from source, unpacking binaries, installing from github repository, etc.)\n",
    "\n",
    "#### 1.3.2.1 DIAMOND\n",
    "As the latest version of <a href=\"https://github.com/bbuchfink/diamond\" target=\"_blank\">DIAMOND</a> (a sequence aligner for protein and translated DNA searches) is not available through `conda`, we can install it from Github by following the <a href=\"https://github.com/bbuchfink/diamond/wiki\" target=\"_blank\">installation instructions</a>."
   ]
  },
  {
   "cell_type": "code",
   "execution_count": null,
   "id": "7f17a668",
   "metadata": {
    "scrolled": true
   },
   "outputs": [],
   "source": [
    "cd ~/data/software/\n",
    "mkdir diamond\n",
    "cd diamond\n",
    "wget http://github.com/bbuchfink/diamond/releases/download/v2.0.6/diamond-linux64.tar.gz\n",
    "tar -xzf diamond-linux64.tar.gz"
   ]
  },
  {
   "cell_type": "markdown",
   "id": "dde100cf",
   "metadata": {},
   "source": [
    "Now we still need to put the diamond executable in our `PATH` variable so we can call the `diamond` command from everywhere in the command line. This can be done by making a `bin` subdirectory in `~/data/software/`, followed by creating a <a href=\"https://linuxize.com/post/how-to-create-symbolic-links-in-linux-using-the-ln-command/\" target=\"_blank\">symbolic link</a> from the `diamond` executable to `~/data/software/bin/` and finally export this directory to our `$PATH` by adding it to your `.profile` file."
   ]
  },
  {
   "cell_type": "code",
   "execution_count": null,
   "id": "598185cb",
   "metadata": {},
   "outputs": [],
   "source": [
    "cd ~/data/software\n",
    "mkdir bin\n",
    "cd bin/\n",
    "ln -s ~/data/software/diamond/diamond ."
   ]
  },
  {
   "cell_type": "markdown",
   "id": "ee991845",
   "metadata": {},
   "source": [
    "Next, open the `.profile` file with `nano` (a text editor) and add following line to the bottom of the file:\n",
    "```bash\n",
    "PATH=\"~/data/software/bin:$PATH\"\n",
    "```"
   ]
  },
  {
   "cell_type": "code",
   "execution_count": null,
   "id": "923d4c6a",
   "metadata": {},
   "outputs": [],
   "source": [
    "nano ~/.profile"
   ]
  },
  {
   "cell_type": "markdown",
   "id": "fe4213d0",
   "metadata": {},
   "source": [
    "<div class=\"alert alert-block alert-info\" style=\"background-color: white; border: 2px solid; padding: 15px;display:inline-block\">\n",
    "    <b><i class=\"fa fa-info-circle\" aria-hidden=\"true\"></i>&nbsp; Info</b><br>\n",
    "    <p style=\"color: black\">\n",
    "More documentation on how and where to set the <code>PATH</code> variable in these two topics:</p>\n",
    "<ul style=\"color: black\">\n",
    "<li><strong>How</strong>: <a target=\"_blank\" href=\"https://unix.stackexchange.com/questions/26047/how-to-correctly-add-a-path-to-path\">How to correctly add a path to PATH</a></li>\n",
    "<li><strong>Where</strong>: <a target=\"_blank\" href=\"https://superuser.com/questions/183870/difference-between-bashrc-and-bash-profile/183980#183980\">Difference between .bashrc and .profile files</a></li>\n",
    "</ul></div>\n",
    "\n",
    "When you `source` your `.profile` file, you should now be able to call `diamond`."
   ]
  },
  {
   "cell_type": "code",
   "execution_count": null,
   "id": "65c2bd68",
   "metadata": {},
   "outputs": [],
   "source": [
    "source ~/.profile"
   ]
  },
  {
   "cell_type": "markdown",
   "id": "176d458d",
   "metadata": {},
   "source": [
    "Let's check out the version of Diamond you have installed!"
   ]
  },
  {
   "cell_type": "code",
   "execution_count": null,
   "id": "0b38aa79",
   "metadata": {
    "scrolled": true
   },
   "outputs": [],
   "source": [
    "diamond version"
   ]
  },
  {
   "cell_type": "markdown",
   "id": "63702569",
   "metadata": {},
   "source": [
    "#### 1.3.2.2 Krona\n",
    "<p>In the recent past, there were some issues with <a target=\"_blank\" href=\"https://github.com/marbl/Krona\">Krona</a> but they have been solved by the latest releases on Github. Unfortunately these are not yet available through <code>conda</code>, so we will also install them directly from Github.</p>\n",
    "<p> Clone the Krona repository in your <code>~/data/software</code> directory.</p>"
   ]
  },
  {
   "cell_type": "code",
   "execution_count": null,
   "id": "d8480b80",
   "metadata": {},
   "outputs": [],
   "source": [
    "cd ~/data/software\n",
    "git clone https://github.com/marbl/Krona.git"
   ]
  },
  {
   "cell_type": "markdown",
   "id": "7786f67a",
   "metadata": {},
   "source": [
    "<p>This will unpack to <code>Krona/</code>.</p>\n",
    "<p>Move to <code>Krona/KronaTools/</code> and run the installation script <code>install.pl</code>."
   ]
  },
  {
   "cell_type": "code",
   "execution_count": null,
   "id": "1d98801e",
   "metadata": {},
   "outputs": [],
   "source": [
    "cd ~/data/software/Krona/KronaTools\n",
    "./install.pl --prefix ~/data/software"
   ]
  },
  {
   "cell_type": "markdown",
   "id": "70b4b665",
   "metadata": {},
   "source": [
    "<div class=\"alert alert-block dark-alert\" style=\"background-color: white; border: 2px solid; padding: 10px;display:inline-block\">\n",
    "    <b><i class=\"fas fa-laptop\"></i>&nbsp; Command-line options</b><br><br>\n",
    "    <p style=\"color:black\">\n",
    "        <code>install.pl</code> will install all the Krona scripts into a <code>bin</code> directory within the path you specified with <code>--prefix</code>. We give it <code>~/data/software</code> because we already have a <code>bin</code> directory there which is installed in our <code>PATH</code> variable.\n",
    "    </p>\n",
    "</div>"
   ]
  },
  {
   "cell_type": "markdown",
   "id": "fc0068d7",
   "metadata": {},
   "source": [
    "##### Linking the taxonomy database for Krona\n",
    "Krona is installed but it still needs <b>taxonomy databases</b> to generate taxonomic reports. Normally, you should run the <code>ktUpdateTaxonomy.sh</code> and <code>updateAccessions.sh</code> scripts to download these databases but as we are working on the teaching server with limited storage capability, they are already available under <code>/home/luna.kuleuven.be/u0140985/data/db/Krona/</code>. By creating a symbolic link from this path to the default path where Krona will search for the databases when it is running, we save some storage space."
   ]
  },
  {
   "cell_type": "code",
   "execution_count": null,
   "id": "0379a6e6",
   "metadata": {},
   "outputs": [],
   "source": [
    "ln -sf /mnt/storage/u0140985/db/Krona ~/data/software/Krona/KronaTools/taxonomy"
   ]
  },
  {
   "cell_type": "markdown",
   "id": "e87ce3ae",
   "metadata": {},
   "source": [
    "---\n",
    "<div class=\"alert alert-block\" style=\"color:purple;background-color: white; border: 2px solid; padding: 15px;display:inline-block\">\n",
    "    <b><i class=\"fas fa-pencil-alt\"></i>&nbsp; Exercise</b><br>\n",
    "\n",
    "<h4 id=\"1-3-1-exercise\" style=\"color: black\">1.3-1 Exercise</h4>\n",
    "<p style=\"color: black\">Try to install the latest version of <a target=\"_blank\" href=\"https://github.com/ablab/spades\">SPAdes</a> by yourself. If you have troubles with this exercise, the steps are listed in the solutions notebook.</p></div>\n",
    "\n",
    "---"
   ]
  },
  {
   "cell_type": "markdown",
   "id": "28e123e3",
   "metadata": {},
   "source": [
    "#### Exercise 1.3-1"
   ]
  },
  {
   "cell_type": "code",
   "execution_count": null,
   "id": "2ce57349",
   "metadata": {},
   "outputs": [],
   "source": [
    "cd ~/data/software\n",
    "wget http://cab.spbu.ru/files/release3.15.0/SPAdes-3.15.0-Linux.tar.gz\n",
    "tar -xzf SPAdes-3.15.0-Linux.tar.gz\n",
    "cd SPAdes-3.15.0-Linux/bin/"
   ]
  },
  {
   "cell_type": "markdown",
   "id": "ee0db3c6",
   "metadata": {},
   "source": [
    "Don't forget to add the SPAdes `bin` directory to your `PATH` by editing your `.profile` in the home directory\n",
    "```bash\n",
    "PATH=\"~/data/software/SPAdes-3.15.0-Linux/bin:$PATH\"\n",
    "```"
   ]
  },
  {
   "cell_type": "code",
   "execution_count": null,
   "id": "c35bb0c9",
   "metadata": {},
   "outputs": [],
   "source": [
    "source ~/.profile"
   ]
  }
 ],
 "metadata": {
  "kernelspec": {
   "display_name": "Bash",
   "language": "bash",
   "name": "bash"
  },
  "language_info": {
   "codemirror_mode": "shell",
   "file_extension": ".sh",
   "mimetype": "text/x-sh",
   "name": "bash"
  }
 },
 "nbformat": 4,
 "nbformat_minor": 5
}
